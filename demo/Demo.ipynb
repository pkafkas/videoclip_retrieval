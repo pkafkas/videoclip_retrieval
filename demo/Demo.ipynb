{
  "nbformat": 4,
  "nbformat_minor": 0,
  "metadata": {
    "colab": {
      "provenance": []
    },
    "kernelspec": {
      "name": "python3",
      "display_name": "Python 3"
    },
    "language_info": {
      "name": "python"
    }
  },
  "cells": [
    {
      "cell_type": "markdown",
      "source": [
        "Import All Required Packages for DEMO"
      ],
      "metadata": {
        "id": "unp4EEE3K9A0"
      }
    },
    {
      "cell_type": "code",
      "execution_count": 1,
      "metadata": {
        "id": "CeVBXBSqKEfd"
      },
      "outputs": [],
      "source": [
        "import os\n",
        "import numpy as np\n",
        "import plotly.graph_objs as go\n",
        "import plotly\n",
        "import pandas as pd\n",
        "import torch\n",
        "import torch.nn as nn\n",
        "from torch.utils.data import Dataset, DataLoader\n",
        "from torchvision import datasets, transforms\n",
        "from torchvision.utils import make_grid, save_image\n",
        "from torch.nn import functional as F\n",
        "import matplotlib.pyplot as plt\n",
        "from tqdm import tqdm\n",
        "import numpy as np\n",
        "from scipy.stats import norm\n",
        "import scipy.io\n",
        "import os\n",
        "from math import ceil\n",
        "import joblib\n",
        "from sklearn import preprocessing\n",
        "import plotly.express as px\n",
        "import plotly.graph_objects as go\n",
        "\n",
        "device = ( 'cuda' if torch.cuda.is_available() else 'cpu' )"
      ]
    },
    {
      "cell_type": "code",
      "source": [
        "!pip install dash # The core dash backend\n",
        "!pip install dash-daq\n",
        "\n",
        "# Import packages\n",
        "from dash import Dash, html, dash_table, dcc, callback, Output, Input\n",
        "import pandas as pd\n",
        "import plotly.express as px"
      ],
      "metadata": {
        "colab": {
          "base_uri": "https://localhost:8080/",
          "height": 1000
        },
        "id": "kLHfSPoaK7Ni",
        "outputId": "6b50f187-9291-48fd-9b81-6cbd883d56b5"
      },
      "execution_count": 2,
      "outputs": [
        {
          "output_type": "stream",
          "name": "stdout",
          "text": [
            "Collecting dash\n",
            "  Downloading dash-2.11.1-py3-none-any.whl (10.4 MB)\n",
            "\u001b[2K     \u001b[90m━━━━━━━━━━━━━━━━━━━━━━━━━━━━━━━━━━━━━━━━\u001b[0m \u001b[32m10.4/10.4 MB\u001b[0m \u001b[31m46.5 MB/s\u001b[0m eta \u001b[36m0:00:00\u001b[0m\n",
            "\u001b[?25hRequirement already satisfied: Flask<2.3.0,>=1.0.4 in /usr/local/lib/python3.10/dist-packages (from dash) (2.2.5)\n",
            "Collecting Werkzeug<2.3.0 (from dash)\n",
            "  Downloading Werkzeug-2.2.3-py3-none-any.whl (233 kB)\n",
            "\u001b[2K     \u001b[90m━━━━━━━━━━━━━━━━━━━━━━━━━━━━━━━━━━━━━━\u001b[0m \u001b[32m233.6/233.6 kB\u001b[0m \u001b[31m20.1 MB/s\u001b[0m eta \u001b[36m0:00:00\u001b[0m\n",
            "\u001b[?25hRequirement already satisfied: plotly>=5.0.0 in /usr/local/lib/python3.10/dist-packages (from dash) (5.13.1)\n",
            "Collecting dash-html-components==2.0.0 (from dash)\n",
            "  Downloading dash_html_components-2.0.0-py3-none-any.whl (4.1 kB)\n",
            "Collecting dash-core-components==2.0.0 (from dash)\n",
            "  Downloading dash_core_components-2.0.0-py3-none-any.whl (3.8 kB)\n",
            "Collecting dash-table==5.0.0 (from dash)\n",
            "  Downloading dash_table-5.0.0-py3-none-any.whl (3.9 kB)\n",
            "Requirement already satisfied: typing-extensions>=4.1.1 in /usr/local/lib/python3.10/dist-packages (from dash) (4.6.3)\n",
            "Requirement already satisfied: requests in /usr/local/lib/python3.10/dist-packages (from dash) (2.27.1)\n",
            "Collecting retrying (from dash)\n",
            "  Downloading retrying-1.3.4-py3-none-any.whl (11 kB)\n",
            "Collecting ansi2html (from dash)\n",
            "  Downloading ansi2html-1.8.0-py3-none-any.whl (16 kB)\n",
            "Requirement already satisfied: nest-asyncio in /usr/local/lib/python3.10/dist-packages (from dash) (1.5.6)\n",
            "Requirement already satisfied: Jinja2>=3.0 in /usr/local/lib/python3.10/dist-packages (from Flask<2.3.0,>=1.0.4->dash) (3.1.2)\n",
            "Requirement already satisfied: itsdangerous>=2.0 in /usr/local/lib/python3.10/dist-packages (from Flask<2.3.0,>=1.0.4->dash) (2.1.2)\n",
            "Requirement already satisfied: click>=8.0 in /usr/local/lib/python3.10/dist-packages (from Flask<2.3.0,>=1.0.4->dash) (8.1.3)\n",
            "Requirement already satisfied: tenacity>=6.2.0 in /usr/local/lib/python3.10/dist-packages (from plotly>=5.0.0->dash) (8.2.2)\n",
            "Requirement already satisfied: MarkupSafe>=2.1.1 in /usr/local/lib/python3.10/dist-packages (from Werkzeug<2.3.0->dash) (2.1.3)\n",
            "Requirement already satisfied: urllib3<1.27,>=1.21.1 in /usr/local/lib/python3.10/dist-packages (from requests->dash) (1.26.16)\n",
            "Requirement already satisfied: certifi>=2017.4.17 in /usr/local/lib/python3.10/dist-packages (from requests->dash) (2023.5.7)\n",
            "Requirement already satisfied: charset-normalizer~=2.0.0 in /usr/local/lib/python3.10/dist-packages (from requests->dash) (2.0.12)\n",
            "Requirement already satisfied: idna<4,>=2.5 in /usr/local/lib/python3.10/dist-packages (from requests->dash) (3.4)\n",
            "Requirement already satisfied: six>=1.7.0 in /usr/local/lib/python3.10/dist-packages (from retrying->dash) (1.16.0)\n",
            "Installing collected packages: dash-table, dash-html-components, dash-core-components, Werkzeug, retrying, ansi2html, dash\n",
            "  Attempting uninstall: Werkzeug\n",
            "    Found existing installation: Werkzeug 2.3.6\n",
            "    Uninstalling Werkzeug-2.3.6:\n",
            "      Successfully uninstalled Werkzeug-2.3.6\n",
            "Successfully installed Werkzeug-2.2.3 ansi2html-1.8.0 dash-2.11.1 dash-core-components-2.0.0 dash-html-components-2.0.0 dash-table-5.0.0 retrying-1.3.4\n",
            "Collecting dash-daq\n",
            "  Downloading dash_daq-0.5.0.tar.gz (642 kB)\n",
            "\u001b[2K     \u001b[90m━━━━━━━━━━━━━━━━━━━━━━━━━━━━━━━━━━━━━━\u001b[0m \u001b[32m642.7/642.7 kB\u001b[0m \u001b[31m10.8 MB/s\u001b[0m eta \u001b[36m0:00:00\u001b[0m\n",
            "\u001b[?25h  Preparing metadata (setup.py) ... \u001b[?25l\u001b[?25hdone\n",
            "Requirement already satisfied: dash>=1.6.1 in /usr/local/lib/python3.10/dist-packages (from dash-daq) (2.11.1)\n",
            "Requirement already satisfied: Flask<2.3.0,>=1.0.4 in /usr/local/lib/python3.10/dist-packages (from dash>=1.6.1->dash-daq) (2.2.5)\n",
            "Requirement already satisfied: Werkzeug<2.3.0 in /usr/local/lib/python3.10/dist-packages (from dash>=1.6.1->dash-daq) (2.2.3)\n",
            "Requirement already satisfied: plotly>=5.0.0 in /usr/local/lib/python3.10/dist-packages (from dash>=1.6.1->dash-daq) (5.13.1)\n",
            "Requirement already satisfied: dash-html-components==2.0.0 in /usr/local/lib/python3.10/dist-packages (from dash>=1.6.1->dash-daq) (2.0.0)\n",
            "Requirement already satisfied: dash-core-components==2.0.0 in /usr/local/lib/python3.10/dist-packages (from dash>=1.6.1->dash-daq) (2.0.0)\n",
            "Requirement already satisfied: dash-table==5.0.0 in /usr/local/lib/python3.10/dist-packages (from dash>=1.6.1->dash-daq) (5.0.0)\n",
            "Requirement already satisfied: typing-extensions>=4.1.1 in /usr/local/lib/python3.10/dist-packages (from dash>=1.6.1->dash-daq) (4.6.3)\n",
            "Requirement already satisfied: requests in /usr/local/lib/python3.10/dist-packages (from dash>=1.6.1->dash-daq) (2.27.1)\n",
            "Requirement already satisfied: retrying in /usr/local/lib/python3.10/dist-packages (from dash>=1.6.1->dash-daq) (1.3.4)\n",
            "Requirement already satisfied: ansi2html in /usr/local/lib/python3.10/dist-packages (from dash>=1.6.1->dash-daq) (1.8.0)\n",
            "Requirement already satisfied: nest-asyncio in /usr/local/lib/python3.10/dist-packages (from dash>=1.6.1->dash-daq) (1.5.6)\n",
            "Requirement already satisfied: Jinja2>=3.0 in /usr/local/lib/python3.10/dist-packages (from Flask<2.3.0,>=1.0.4->dash>=1.6.1->dash-daq) (3.1.2)\n",
            "Requirement already satisfied: itsdangerous>=2.0 in /usr/local/lib/python3.10/dist-packages (from Flask<2.3.0,>=1.0.4->dash>=1.6.1->dash-daq) (2.1.2)\n",
            "Requirement already satisfied: click>=8.0 in /usr/local/lib/python3.10/dist-packages (from Flask<2.3.0,>=1.0.4->dash>=1.6.1->dash-daq) (8.1.3)\n",
            "Requirement already satisfied: tenacity>=6.2.0 in /usr/local/lib/python3.10/dist-packages (from plotly>=5.0.0->dash>=1.6.1->dash-daq) (8.2.2)\n",
            "Requirement already satisfied: MarkupSafe>=2.1.1 in /usr/local/lib/python3.10/dist-packages (from Werkzeug<2.3.0->dash>=1.6.1->dash-daq) (2.1.3)\n",
            "Requirement already satisfied: urllib3<1.27,>=1.21.1 in /usr/local/lib/python3.10/dist-packages (from requests->dash>=1.6.1->dash-daq) (1.26.16)\n",
            "Requirement already satisfied: certifi>=2017.4.17 in /usr/local/lib/python3.10/dist-packages (from requests->dash>=1.6.1->dash-daq) (2023.5.7)\n",
            "Requirement already satisfied: charset-normalizer~=2.0.0 in /usr/local/lib/python3.10/dist-packages (from requests->dash>=1.6.1->dash-daq) (2.0.12)\n",
            "Requirement already satisfied: idna<4,>=2.5 in /usr/local/lib/python3.10/dist-packages (from requests->dash>=1.6.1->dash-daq) (3.4)\n",
            "Requirement already satisfied: six>=1.7.0 in /usr/local/lib/python3.10/dist-packages (from retrying->dash>=1.6.1->dash-daq) (1.16.0)\n",
            "Building wheels for collected packages: dash-daq\n",
            "  Building wheel for dash-daq (setup.py) ... \u001b[?25l\u001b[?25hdone\n",
            "  Created wheel for dash-daq: filename=dash_daq-0.5.0-py3-none-any.whl size=669696 sha256=e097862ffa3731e3f168d8295af46f0744e7e2e1abf343d9bfd838f0d0583572\n",
            "  Stored in directory: /root/.cache/pip/wheels/75/14/1b/208d09d5e239391048bdc167759977b41ba65a3d4063aebf6b\n",
            "Successfully built dash-daq\n",
            "Installing collected packages: dash-daq\n",
            "Successfully installed dash-daq-0.5.0\n"
          ]
        }
      ]
    },
    {
      "cell_type": "markdown",
      "source": [
        "Autoencoder Definition"
      ],
      "metadata": {
        "id": "dRVFFC50LCUR"
      }
    },
    {
      "cell_type": "code",
      "source": [
        "# Autoencoder\n",
        "\n",
        "# Hyperparameters\n",
        "batch_size = 128\n",
        "device = device = ( 'cuda' if torch.cuda.is_available() else 'cpu' )\n",
        "\n",
        "img_size1 = 138    # 28x28x1\n",
        "hidden_dim = 64  # hidden layer dim\n",
        "#z_dim = 20        # latent space dimension (encoder)\n",
        "z_dim = 2        # latent space dimension (encoder)\n",
        "\n",
        "epochs = 10\n",
        "\n",
        "# model architecture\n",
        "class VAE(nn.Module):\n",
        "  def __init__(self):\n",
        "    super(VAE, self).__init__()\n",
        "\n",
        "    # encoder\n",
        "    self.fc1 = nn.Linear(img_size1, hidden_dim)\n",
        "    self.fc2_mean = nn.Linear(hidden_dim, z_dim)\n",
        "    self.fc2_logvar = nn.Linear(hidden_dim, z_dim)\n",
        "    #decoder\n",
        "    self.fc3 = nn.Linear(z_dim, hidden_dim)\n",
        "    self.fc4 = nn.Linear(hidden_dim, img_size1)\n",
        "\n",
        "  def encode(self, x):\n",
        "    h = F.relu(self.fc1(x))\n",
        "    mu = self.fc2_mean(h)         # compute mean of latent\n",
        "    logvar = self.fc2_logvar(h)   # compute logvar of latent\n",
        "    return mu, logvar\n",
        "\n",
        "  def reparameterize(self, mu, logvar):\n",
        "    # p(z|x) = mu + std * eps\n",
        "    std = torch.exp(logvar/2)\n",
        "    eps = torch.randn_like(std)\n",
        "    return (mu + eps * std)\n",
        "\n",
        "  def decode(self, z):\n",
        "    h = F.relu(self.fc3(z))\n",
        "    out = torch.sigmoid(self.fc4(h))\n",
        "    return out\n",
        "\n",
        "  def forward(self, x):\n",
        "    # batch_size x 1 x 28 x 28 -> batch_size x 784\n",
        "    #print(x.view(-1, img_size).shape)\n",
        "    mu, logvar = self.encode(x.view(-1, img_size1))\n",
        "    z = self.reparameterize(mu, logvar)\n",
        "    reconstructed = self.decode(z)\n",
        "    return reconstructed, mu, logvar\n",
        "\n",
        "# Initialize model, optimizer\n",
        "\n",
        "# combined VAE\n",
        "#img_size = 650\n",
        "#totVae = VAE().to(device)\n",
        "#totVae.load_state_dict(torch.load('/content/drive/MyDrive/video_feat/features/autoenc.pth'))\n",
        "\n",
        "# Audio only VAE\n",
        "#img_size = 138\n",
        "audVae = VAE().to(device)\n",
        "audVae.load_state_dict(torch.load('/content/drive/MyDrive/video_feat/audio_only/autoenc_audio_only.pth'))"
      ],
      "metadata": {
        "colab": {
          "base_uri": "https://localhost:8080/"
        },
        "id": "yJdSuiUCK75G",
        "outputId": "bd520eb5-48d8-401d-ea39-f7572daf9798"
      },
      "execution_count": 3,
      "outputs": [
        {
          "output_type": "execute_result",
          "data": {
            "text/plain": [
              "<All keys matched successfully>"
            ]
          },
          "metadata": {},
          "execution_count": 3
        }
      ]
    },
    {
      "cell_type": "code",
      "source": [
        "# Autoencoder\n",
        "\n",
        "# Hyperparameters\n",
        "batch_size = 128\n",
        "device = device = ( 'cuda' if torch.cuda.is_available() else 'cpu' )\n",
        "\n",
        "img_size = 650    # 28x28x1\n",
        "hidden_dim = 64  # hidden layer dim\n",
        "#z_dim = 20        # latent space dimension (encoder)\n",
        "z_dim = 2        # latent space dimension (encoder)\n",
        "\n",
        "epochs = 10\n",
        "\n",
        "# model architecture\n",
        "class VAE(nn.Module):\n",
        "  def __init__(self):\n",
        "    super(VAE, self).__init__()\n",
        "\n",
        "    # encoder\n",
        "    self.fc1 = nn.Linear(img_size, hidden_dim)\n",
        "    self.fc2_mean = nn.Linear(hidden_dim, z_dim)\n",
        "    self.fc2_logvar = nn.Linear(hidden_dim, z_dim)\n",
        "    #decoder\n",
        "    self.fc3 = nn.Linear(z_dim, hidden_dim)\n",
        "    self.fc4 = nn.Linear(hidden_dim, img_size)\n",
        "\n",
        "  def encode(self, x):\n",
        "    h = F.relu(self.fc1(x))\n",
        "    mu = self.fc2_mean(h)         # compute mean of latent\n",
        "    logvar = self.fc2_logvar(h)   # compute logvar of latent\n",
        "    return mu, logvar\n",
        "\n",
        "  def reparameterize(self, mu, logvar):\n",
        "    # p(z|x) = mu + std * eps\n",
        "    std = torch.exp(logvar/2)\n",
        "    eps = torch.randn_like(std)\n",
        "    return (mu + eps * std)\n",
        "\n",
        "  def decode(self, z):\n",
        "    h = F.relu(self.fc3(z))\n",
        "    out = torch.sigmoid(self.fc4(h))\n",
        "    return out\n",
        "\n",
        "  def forward(self, x):\n",
        "    # batch_size x 1 x 28 x 28 -> batch_size x 784\n",
        "    #print(x.view(-1, img_size).shape)\n",
        "    mu, logvar = self.encode(x.view(-1, img_size))\n",
        "    z = self.reparameterize(mu, logvar)\n",
        "    reconstructed = self.decode(z)\n",
        "    return reconstructed, mu, logvar\n",
        "\n",
        "totVae = VAE().to(device)\n",
        "totVae.load_state_dict(torch.load('/content/drive/MyDrive/video_feat/features/autoenc.pth'))"
      ],
      "metadata": {
        "colab": {
          "base_uri": "https://localhost:8080/"
        },
        "id": "PkfpNSBiRful",
        "outputId": "9b4968ab-3638-4c27-ea91-e5ddbfe6749b"
      },
      "execution_count": 4,
      "outputs": [
        {
          "output_type": "execute_result",
          "data": {
            "text/plain": [
              "<All keys matched successfully>"
            ]
          },
          "metadata": {},
          "execution_count": 4
        }
      ]
    },
    {
      "cell_type": "code",
      "source": [
        "print(totVae)"
      ],
      "metadata": {
        "colab": {
          "base_uri": "https://localhost:8080/"
        },
        "id": "dM_6-4hUQWoe",
        "outputId": "e20a6b62-dc0b-42eb-c9a8-63807ba61a54"
      },
      "execution_count": 5,
      "outputs": [
        {
          "output_type": "stream",
          "name": "stdout",
          "text": [
            "VAE(\n",
            "  (fc1): Linear(in_features=650, out_features=64, bias=True)\n",
            "  (fc2_mean): Linear(in_features=64, out_features=2, bias=True)\n",
            "  (fc2_logvar): Linear(in_features=64, out_features=2, bias=True)\n",
            "  (fc3): Linear(in_features=2, out_features=64, bias=True)\n",
            "  (fc4): Linear(in_features=64, out_features=650, bias=True)\n",
            ")\n"
          ]
        }
      ]
    },
    {
      "cell_type": "code",
      "source": [
        "# VideoAudio ----------------\n",
        "encoderVA = preprocessing.LabelEncoder()\n",
        "encoderVA.classes_ = np.load('/content/drive/MyDrive/video_feat/features/classes.npy')\n",
        "\n",
        "# these are the encoded video clips\n",
        "songs_z_va = pd.read_csv('/content/drive/MyDrive/video_feat/features/audioVideo_z.csv')\n",
        "songs_z_va.head()\n",
        "\n",
        "# Audio ----------------\n",
        "encoderAU = preprocessing.LabelEncoder()\n",
        "encoderAU.classes_ = np.load('/content/drive/MyDrive/video_feat/audio_only/classes.npy')\n",
        "\n",
        "# these are the encoded video clips\n",
        "songs_z_au = pd.read_csv('/content/drive/MyDrive/video_feat/audio_only/audio_z.csv')\n",
        "songs_z_au.head()"
      ],
      "metadata": {
        "colab": {
          "base_uri": "https://localhost:8080/",
          "height": 206
        },
        "id": "WbSSCJ2HK8Wo",
        "outputId": "a9e91026-3d00-494c-9e36-457f710f5d59"
      },
      "execution_count": 6,
      "outputs": [
        {
          "output_type": "execute_result",
          "data": {
            "text/plain": [
              "           x         y  labels\n",
              "0  25.158928  1.049391       9\n",
              "1  -2.364750  0.553579       7\n",
              "2  -5.552360  0.839206       0\n",
              "3   0.643493  0.635634       2\n",
              "4  -1.848031  0.663291       4"
            ],
            "text/html": [
              "\n",
              "  <div id=\"df-a048d35e-143a-41c5-9406-71405d046383\">\n",
              "    <div class=\"colab-df-container\">\n",
              "      <div>\n",
              "<style scoped>\n",
              "    .dataframe tbody tr th:only-of-type {\n",
              "        vertical-align: middle;\n",
              "    }\n",
              "\n",
              "    .dataframe tbody tr th {\n",
              "        vertical-align: top;\n",
              "    }\n",
              "\n",
              "    .dataframe thead th {\n",
              "        text-align: right;\n",
              "    }\n",
              "</style>\n",
              "<table border=\"1\" class=\"dataframe\">\n",
              "  <thead>\n",
              "    <tr style=\"text-align: right;\">\n",
              "      <th></th>\n",
              "      <th>x</th>\n",
              "      <th>y</th>\n",
              "      <th>labels</th>\n",
              "    </tr>\n",
              "  </thead>\n",
              "  <tbody>\n",
              "    <tr>\n",
              "      <th>0</th>\n",
              "      <td>25.158928</td>\n",
              "      <td>1.049391</td>\n",
              "      <td>9</td>\n",
              "    </tr>\n",
              "    <tr>\n",
              "      <th>1</th>\n",
              "      <td>-2.364750</td>\n",
              "      <td>0.553579</td>\n",
              "      <td>7</td>\n",
              "    </tr>\n",
              "    <tr>\n",
              "      <th>2</th>\n",
              "      <td>-5.552360</td>\n",
              "      <td>0.839206</td>\n",
              "      <td>0</td>\n",
              "    </tr>\n",
              "    <tr>\n",
              "      <th>3</th>\n",
              "      <td>0.643493</td>\n",
              "      <td>0.635634</td>\n",
              "      <td>2</td>\n",
              "    </tr>\n",
              "    <tr>\n",
              "      <th>4</th>\n",
              "      <td>-1.848031</td>\n",
              "      <td>0.663291</td>\n",
              "      <td>4</td>\n",
              "    </tr>\n",
              "  </tbody>\n",
              "</table>\n",
              "</div>\n",
              "      <button class=\"colab-df-convert\" onclick=\"convertToInteractive('df-a048d35e-143a-41c5-9406-71405d046383')\"\n",
              "              title=\"Convert this dataframe to an interactive table.\"\n",
              "              style=\"display:none;\">\n",
              "        \n",
              "  <svg xmlns=\"http://www.w3.org/2000/svg\" height=\"24px\"viewBox=\"0 0 24 24\"\n",
              "       width=\"24px\">\n",
              "    <path d=\"M0 0h24v24H0V0z\" fill=\"none\"/>\n",
              "    <path d=\"M18.56 5.44l.94 2.06.94-2.06 2.06-.94-2.06-.94-.94-2.06-.94 2.06-2.06.94zm-11 1L8.5 8.5l.94-2.06 2.06-.94-2.06-.94L8.5 2.5l-.94 2.06-2.06.94zm10 10l.94 2.06.94-2.06 2.06-.94-2.06-.94-.94-2.06-.94 2.06-2.06.94z\"/><path d=\"M17.41 7.96l-1.37-1.37c-.4-.4-.92-.59-1.43-.59-.52 0-1.04.2-1.43.59L10.3 9.45l-7.72 7.72c-.78.78-.78 2.05 0 2.83L4 21.41c.39.39.9.59 1.41.59.51 0 1.02-.2 1.41-.59l7.78-7.78 2.81-2.81c.8-.78.8-2.07 0-2.86zM5.41 20L4 18.59l7.72-7.72 1.47 1.35L5.41 20z\"/>\n",
              "  </svg>\n",
              "      </button>\n",
              "      \n",
              "  <style>\n",
              "    .colab-df-container {\n",
              "      display:flex;\n",
              "      flex-wrap:wrap;\n",
              "      gap: 12px;\n",
              "    }\n",
              "\n",
              "    .colab-df-convert {\n",
              "      background-color: #E8F0FE;\n",
              "      border: none;\n",
              "      border-radius: 50%;\n",
              "      cursor: pointer;\n",
              "      display: none;\n",
              "      fill: #1967D2;\n",
              "      height: 32px;\n",
              "      padding: 0 0 0 0;\n",
              "      width: 32px;\n",
              "    }\n",
              "\n",
              "    .colab-df-convert:hover {\n",
              "      background-color: #E2EBFA;\n",
              "      box-shadow: 0px 1px 2px rgba(60, 64, 67, 0.3), 0px 1px 3px 1px rgba(60, 64, 67, 0.15);\n",
              "      fill: #174EA6;\n",
              "    }\n",
              "\n",
              "    [theme=dark] .colab-df-convert {\n",
              "      background-color: #3B4455;\n",
              "      fill: #D2E3FC;\n",
              "    }\n",
              "\n",
              "    [theme=dark] .colab-df-convert:hover {\n",
              "      background-color: #434B5C;\n",
              "      box-shadow: 0px 1px 3px 1px rgba(0, 0, 0, 0.15);\n",
              "      filter: drop-shadow(0px 1px 2px rgba(0, 0, 0, 0.3));\n",
              "      fill: #FFFFFF;\n",
              "    }\n",
              "  </style>\n",
              "\n",
              "      <script>\n",
              "        const buttonEl =\n",
              "          document.querySelector('#df-a048d35e-143a-41c5-9406-71405d046383 button.colab-df-convert');\n",
              "        buttonEl.style.display =\n",
              "          google.colab.kernel.accessAllowed ? 'block' : 'none';\n",
              "\n",
              "        async function convertToInteractive(key) {\n",
              "          const element = document.querySelector('#df-a048d35e-143a-41c5-9406-71405d046383');\n",
              "          const dataTable =\n",
              "            await google.colab.kernel.invokeFunction('convertToInteractive',\n",
              "                                                     [key], {});\n",
              "          if (!dataTable) return;\n",
              "\n",
              "          const docLinkHtml = 'Like what you see? Visit the ' +\n",
              "            '<a target=\"_blank\" href=https://colab.research.google.com/notebooks/data_table.ipynb>data table notebook</a>'\n",
              "            + ' to learn more about interactive tables.';\n",
              "          element.innerHTML = '';\n",
              "          dataTable['output_type'] = 'display_data';\n",
              "          await google.colab.output.renderOutput(dataTable, element);\n",
              "          const docLink = document.createElement('div');\n",
              "          docLink.innerHTML = docLinkHtml;\n",
              "          element.appendChild(docLink);\n",
              "        }\n",
              "      </script>\n",
              "    </div>\n",
              "  </div>\n",
              "  "
            ]
          },
          "metadata": {},
          "execution_count": 6
        }
      ]
    },
    {
      "cell_type": "markdown",
      "source": [
        "Nearest Neighbors"
      ],
      "metadata": {
        "id": "08EgtENfMStn"
      }
    },
    {
      "cell_type": "code",
      "source": [
        "from sklearn.neighbors import NearestNeighbors\n",
        "\n",
        "# VA\n",
        "neigh_va = NearestNeighbors(n_neighbors=5)\n",
        "neigh_va.fit(songs_z_va[['x', 'y']].values)\n",
        "\n",
        "# Au\n",
        "neigh_au = NearestNeighbors(n_neighbors=5)\n",
        "neigh_au.fit(songs_z_au[['x', 'y']].values)"
      ],
      "metadata": {
        "colab": {
          "base_uri": "https://localhost:8080/",
          "height": 74
        },
        "id": "eAnbkhCIMZyi",
        "outputId": "5cb9e671-b226-4a02-b5b1-1c29751138cb"
      },
      "execution_count": 7,
      "outputs": [
        {
          "output_type": "execute_result",
          "data": {
            "text/plain": [
              "NearestNeighbors()"
            ],
            "text/html": [
              "<style>#sk-container-id-1 {color: black;background-color: white;}#sk-container-id-1 pre{padding: 0;}#sk-container-id-1 div.sk-toggleable {background-color: white;}#sk-container-id-1 label.sk-toggleable__label {cursor: pointer;display: block;width: 100%;margin-bottom: 0;padding: 0.3em;box-sizing: border-box;text-align: center;}#sk-container-id-1 label.sk-toggleable__label-arrow:before {content: \"▸\";float: left;margin-right: 0.25em;color: #696969;}#sk-container-id-1 label.sk-toggleable__label-arrow:hover:before {color: black;}#sk-container-id-1 div.sk-estimator:hover label.sk-toggleable__label-arrow:before {color: black;}#sk-container-id-1 div.sk-toggleable__content {max-height: 0;max-width: 0;overflow: hidden;text-align: left;background-color: #f0f8ff;}#sk-container-id-1 div.sk-toggleable__content pre {margin: 0.2em;color: black;border-radius: 0.25em;background-color: #f0f8ff;}#sk-container-id-1 input.sk-toggleable__control:checked~div.sk-toggleable__content {max-height: 200px;max-width: 100%;overflow: auto;}#sk-container-id-1 input.sk-toggleable__control:checked~label.sk-toggleable__label-arrow:before {content: \"▾\";}#sk-container-id-1 div.sk-estimator input.sk-toggleable__control:checked~label.sk-toggleable__label {background-color: #d4ebff;}#sk-container-id-1 div.sk-label input.sk-toggleable__control:checked~label.sk-toggleable__label {background-color: #d4ebff;}#sk-container-id-1 input.sk-hidden--visually {border: 0;clip: rect(1px 1px 1px 1px);clip: rect(1px, 1px, 1px, 1px);height: 1px;margin: -1px;overflow: hidden;padding: 0;position: absolute;width: 1px;}#sk-container-id-1 div.sk-estimator {font-family: monospace;background-color: #f0f8ff;border: 1px dotted black;border-radius: 0.25em;box-sizing: border-box;margin-bottom: 0.5em;}#sk-container-id-1 div.sk-estimator:hover {background-color: #d4ebff;}#sk-container-id-1 div.sk-parallel-item::after {content: \"\";width: 100%;border-bottom: 1px solid gray;flex-grow: 1;}#sk-container-id-1 div.sk-label:hover label.sk-toggleable__label {background-color: #d4ebff;}#sk-container-id-1 div.sk-serial::before {content: \"\";position: absolute;border-left: 1px solid gray;box-sizing: border-box;top: 0;bottom: 0;left: 50%;z-index: 0;}#sk-container-id-1 div.sk-serial {display: flex;flex-direction: column;align-items: center;background-color: white;padding-right: 0.2em;padding-left: 0.2em;position: relative;}#sk-container-id-1 div.sk-item {position: relative;z-index: 1;}#sk-container-id-1 div.sk-parallel {display: flex;align-items: stretch;justify-content: center;background-color: white;position: relative;}#sk-container-id-1 div.sk-item::before, #sk-container-id-1 div.sk-parallel-item::before {content: \"\";position: absolute;border-left: 1px solid gray;box-sizing: border-box;top: 0;bottom: 0;left: 50%;z-index: -1;}#sk-container-id-1 div.sk-parallel-item {display: flex;flex-direction: column;z-index: 1;position: relative;background-color: white;}#sk-container-id-1 div.sk-parallel-item:first-child::after {align-self: flex-end;width: 50%;}#sk-container-id-1 div.sk-parallel-item:last-child::after {align-self: flex-start;width: 50%;}#sk-container-id-1 div.sk-parallel-item:only-child::after {width: 0;}#sk-container-id-1 div.sk-dashed-wrapped {border: 1px dashed gray;margin: 0 0.4em 0.5em 0.4em;box-sizing: border-box;padding-bottom: 0.4em;background-color: white;}#sk-container-id-1 div.sk-label label {font-family: monospace;font-weight: bold;display: inline-block;line-height: 1.2em;}#sk-container-id-1 div.sk-label-container {text-align: center;}#sk-container-id-1 div.sk-container {/* jupyter's `normalize.less` sets `[hidden] { display: none; }` but bootstrap.min.css set `[hidden] { display: none !important; }` so we also need the `!important` here to be able to override the default hidden behavior on the sphinx rendered scikit-learn.org. See: https://github.com/scikit-learn/scikit-learn/issues/21755 */display: inline-block !important;position: relative;}#sk-container-id-1 div.sk-text-repr-fallback {display: none;}</style><div id=\"sk-container-id-1\" class=\"sk-top-container\"><div class=\"sk-text-repr-fallback\"><pre>NearestNeighbors()</pre><b>In a Jupyter environment, please rerun this cell to show the HTML representation or trust the notebook. <br />On GitHub, the HTML representation is unable to render, please try loading this page with nbviewer.org.</b></div><div class=\"sk-container\" hidden><div class=\"sk-item\"><div class=\"sk-estimator sk-toggleable\"><input class=\"sk-toggleable__control sk-hidden--visually\" id=\"sk-estimator-id-1\" type=\"checkbox\" checked><label for=\"sk-estimator-id-1\" class=\"sk-toggleable__label sk-toggleable__label-arrow\">NearestNeighbors</label><div class=\"sk-toggleable__content\"><pre>NearestNeighbors()</pre></div></div></div></div></div>"
            ]
          },
          "metadata": {},
          "execution_count": 7
        }
      ]
    },
    {
      "cell_type": "markdown",
      "source": [
        "'Toy' - Demo files"
      ],
      "metadata": {
        "id": "fyrMKOk3Mz9V"
      }
    },
    {
      "cell_type": "code",
      "source": [
        "testdat1 = torch.rand(650)\n",
        "testdat2 = torch.randn(650)\n",
        "testdat3 = testdat2[:138]"
      ],
      "metadata": {
        "id": "OUkHcfhZM0Es"
      },
      "execution_count": 8,
      "outputs": []
    },
    {
      "cell_type": "markdown",
      "source": [],
      "metadata": {
        "id": "8zbnohvCNQRU"
      }
    },
    {
      "cell_type": "code",
      "source": [
        "def softmax(x):\n",
        "    \"\"\"Compute softmax values for each sets of scores in x.\"\"\"\n",
        "    e_x = np.exp(x - np.max(x))\n",
        "    return e_x / e_x.sum(axis=0) # only difference\n",
        "\n",
        "\n",
        "def similarityExtract(file, mode):\n",
        "\n",
        "  if mode == 'AV':\n",
        "    #print(totVae)\n",
        "    _, mu, logvar = totVae(file)\n",
        "\n",
        "    epsilon = 0.1\n",
        "    std = torch.exp(logvar/2)\n",
        "    eps = torch.randn_like(std)\n",
        "    z = (mu + epsilon * std).data.cpu().numpy()\n",
        "    #z = audioVae.reparameterize(mu, logvar).data.cpu().numpy()\n",
        "    neighbor_distance, neighbor_index = neigh_va.kneighbors(z, return_distance=True)\n",
        "    neighbor_color = neighbor_index\n",
        "    #print(neighbor_color)\n",
        "    plot_radius = float(np.array(np.max(neighbor_distance)))\n",
        "    #print(f'pr {plot_radius}')\n",
        "    ha = (neighbor_distance.reshape(-1, 1)+100)\n",
        "\n",
        "    neighbor_distance = softmax(ha).round(3)*100\n",
        "    neighbor_distance = softmax(100 - neighbor_distance).round(3)*100\n",
        "    #print(neighbor_distance)\n",
        "    neighbor_index = encoderVA.inverse_transform(neighbor_index.reshape(-1))\n",
        "    #print(neighbor_index)\n",
        "    print()\n",
        "    print()\n",
        "    for i in range(len(neighbor_index)):\n",
        "      print(f'track{i+1}: {neighbor_index[i]}, probability: {neighbor_distance[i]}')\n",
        "\n",
        "    fig1 = px.scatter(x=songs_z_va.iloc[:, 0], y=songs_z_va.iloc[:, 1])\n",
        "    fig2 = px.scatter(x=z[:, 0], y=z[:, 1], color_discrete_sequence=['red'])\n",
        "    #print(list(neighbor_color.reshape(-1)))\n",
        "    z4 = songs_z_va.iloc[list(neighbor_color.reshape(-1))]\n",
        "    #print(z4)\n",
        "    fig4 = px.scatter(x=z4['x'], y=z4['y'], color =neighbor_index) #color_discrete_sequence=['LightGreen'])\n",
        "    fig4.update_traces(\n",
        "      marker=dict(size=8, symbol=\"star-diamond\", line=dict(width=2, color=\"DarkSlateGrey\")),\n",
        "      selector=dict(mode=\"markers\"),\n",
        "    )\n",
        "\n",
        "\n",
        "    fig3 = go.Figure(data=fig1.data + fig2.data + fig4.data)\n",
        "    print(f'lp {z[:, 0]- plot_radius}')\n",
        "    fig3.add_shape(type=\"circle\", xref=\"x\", yref=\"y\", x0=float(z[:, 0])-plot_radius,\n",
        "                  y0=float(z[:, 1])-plot_radius, x1=float(z[:, 0])+plot_radius, y1=float(z[:, 1])+plot_radius,\n",
        "                  line_color=\"LightGreen\", fillcolor=\"LightSalmon\", opacity=0.2,)\n",
        "\n",
        "    # Set figure size\n",
        "    #fig3.update_layout(width=400, height=400)\n",
        "    fig3.update_yaxes(\n",
        "      scaleanchor=\"x\",\n",
        "      scaleratio=1,\n",
        "    )\n",
        "\n",
        "    #fig3.show()\n",
        "    #return fig3\n",
        "\n",
        "  if mode == 'A':\n",
        "\n",
        "    file = file[:138]\n",
        "    _, mu, logvar = audVae(file)\n",
        "\n",
        "    epsilon = 0.1\n",
        "    std = torch.exp(logvar/2)\n",
        "    eps = torch.randn_like(std)\n",
        "    z = (mu + epsilon * std).data.cpu().numpy()\n",
        "    #z = audioVae.reparameterize(mu, logvar).data.cpu().numpy()\n",
        "    neighbor_distance, neighbor_index = neigh_au.kneighbors(z, return_distance=True)\n",
        "    neighbor_color = neighbor_index\n",
        "    #print(neighbor_color)\n",
        "    plot_radius = float(np.array(np.max(neighbor_distance)))\n",
        "    #print(f'pr {plot_radius}')\n",
        "    ha = (neighbor_distance.reshape(-1, 1)+100)\n",
        "\n",
        "    neighbor_distance = softmax(ha).round(3)*100\n",
        "    neighbor_distance = softmax(100 - neighbor_distance).round(3)*100\n",
        "    #print(neighbor_distance)\n",
        "    neighbor_index = encoderAU.inverse_transform(neighbor_index.reshape(-1))\n",
        "    #print(neighbor_index)\n",
        "    print()\n",
        "    print()\n",
        "    for i in range(len(neighbor_index)):\n",
        "      print(f'track{i+1}: {neighbor_index[i]}, probability: {neighbor_distance[i]}')\n",
        "\n",
        "    fig1 = px.scatter(x=songs_z_au.iloc[:, 0], y=songs_z_au.iloc[:, 1])\n",
        "    fig2 = px.scatter(x=z[:, 0], y=z[:, 1], color_discrete_sequence=['red'])\n",
        "    #print(list(neighbor_color.reshape(-1)))\n",
        "    z4 = songs_z_au.iloc[list(neighbor_color.reshape(-1))]\n",
        "    #print(z4)\n",
        "    fig4 = px.scatter(x=z4['x'], y=z4['y'], color =neighbor_index) #color_discrete_sequence=['LightGreen'])\n",
        "    fig4.update_traces(\n",
        "      marker=dict(size=8, symbol=\"star-diamond\", line=dict(width=2, color=\"DarkSlateGrey\")),\n",
        "      selector=dict(mode=\"markers\"),\n",
        "    )\n",
        "\n",
        "\n",
        "    fig3 = go.Figure(data=fig1.data + fig2.data + fig4.data)\n",
        "    print(f'lp {z[:, 0]- plot_radius}')\n",
        "    fig3.add_shape(type=\"circle\", xref=\"x\", yref=\"y\", x0=float(z[:, 0])-plot_radius,\n",
        "                  y0=float(z[:, 1])-plot_radius, x1=float(z[:, 0])+plot_radius, y1=float(z[:, 1])+plot_radius,\n",
        "                  line_color=\"LightGreen\", fillcolor=\"LightSalmon\", opacity=0.2,)\n",
        "\n",
        "    # Set figure size\n",
        "    #fig3.update_layout(width=400, height=400)\n",
        "    fig3.update_yaxes(\n",
        "      scaleanchor=\"x\",\n",
        "      scaleratio=1,\n",
        "    )\n",
        "\n",
        "    #fig3.show()\n",
        "  return fig3"
      ],
      "metadata": {
        "id": "EbH7NsUxNQXA"
      },
      "execution_count": 9,
      "outputs": []
    },
    {
      "cell_type": "code",
      "source": [
        "#similarityExtract(testdat3, 'A')"
      ],
      "metadata": {
        "id": "9XlwQY5CPQKF"
      },
      "execution_count": 10,
      "outputs": []
    },
    {
      "cell_type": "markdown",
      "source": [
        "Demo Code"
      ],
      "metadata": {
        "id": "bY5FmqGUR8Lb"
      }
    },
    {
      "cell_type": "code",
      "source": [
        "!pip install dash # The core dash backend\n",
        "!pip install dash-daq"
      ],
      "metadata": {
        "colab": {
          "base_uri": "https://localhost:8080/"
        },
        "id": "CJ_hSVgLR73z",
        "outputId": "7170921c-404b-4b46-ac85-24938321292f"
      },
      "execution_count": 11,
      "outputs": [
        {
          "output_type": "stream",
          "name": "stdout",
          "text": [
            "Requirement already satisfied: dash in /usr/local/lib/python3.10/dist-packages (2.11.1)\n",
            "Requirement already satisfied: Flask<2.3.0,>=1.0.4 in /usr/local/lib/python3.10/dist-packages (from dash) (2.2.5)\n",
            "Requirement already satisfied: Werkzeug<2.3.0 in /usr/local/lib/python3.10/dist-packages (from dash) (2.2.3)\n",
            "Requirement already satisfied: plotly>=5.0.0 in /usr/local/lib/python3.10/dist-packages (from dash) (5.13.1)\n",
            "Requirement already satisfied: dash-html-components==2.0.0 in /usr/local/lib/python3.10/dist-packages (from dash) (2.0.0)\n",
            "Requirement already satisfied: dash-core-components==2.0.0 in /usr/local/lib/python3.10/dist-packages (from dash) (2.0.0)\n",
            "Requirement already satisfied: dash-table==5.0.0 in /usr/local/lib/python3.10/dist-packages (from dash) (5.0.0)\n",
            "Requirement already satisfied: typing-extensions>=4.1.1 in /usr/local/lib/python3.10/dist-packages (from dash) (4.6.3)\n",
            "Requirement already satisfied: requests in /usr/local/lib/python3.10/dist-packages (from dash) (2.27.1)\n",
            "Requirement already satisfied: retrying in /usr/local/lib/python3.10/dist-packages (from dash) (1.3.4)\n",
            "Requirement already satisfied: ansi2html in /usr/local/lib/python3.10/dist-packages (from dash) (1.8.0)\n",
            "Requirement already satisfied: nest-asyncio in /usr/local/lib/python3.10/dist-packages (from dash) (1.5.6)\n",
            "Requirement already satisfied: Jinja2>=3.0 in /usr/local/lib/python3.10/dist-packages (from Flask<2.3.0,>=1.0.4->dash) (3.1.2)\n",
            "Requirement already satisfied: itsdangerous>=2.0 in /usr/local/lib/python3.10/dist-packages (from Flask<2.3.0,>=1.0.4->dash) (2.1.2)\n",
            "Requirement already satisfied: click>=8.0 in /usr/local/lib/python3.10/dist-packages (from Flask<2.3.0,>=1.0.4->dash) (8.1.3)\n",
            "Requirement already satisfied: tenacity>=6.2.0 in /usr/local/lib/python3.10/dist-packages (from plotly>=5.0.0->dash) (8.2.2)\n",
            "Requirement already satisfied: MarkupSafe>=2.1.1 in /usr/local/lib/python3.10/dist-packages (from Werkzeug<2.3.0->dash) (2.1.3)\n",
            "Requirement already satisfied: urllib3<1.27,>=1.21.1 in /usr/local/lib/python3.10/dist-packages (from requests->dash) (1.26.16)\n",
            "Requirement already satisfied: certifi>=2017.4.17 in /usr/local/lib/python3.10/dist-packages (from requests->dash) (2023.5.7)\n",
            "Requirement already satisfied: charset-normalizer~=2.0.0 in /usr/local/lib/python3.10/dist-packages (from requests->dash) (2.0.12)\n",
            "Requirement already satisfied: idna<4,>=2.5 in /usr/local/lib/python3.10/dist-packages (from requests->dash) (3.4)\n",
            "Requirement already satisfied: six>=1.7.0 in /usr/local/lib/python3.10/dist-packages (from retrying->dash) (1.16.0)\n",
            "Requirement already satisfied: dash-daq in /usr/local/lib/python3.10/dist-packages (0.5.0)\n",
            "Requirement already satisfied: dash>=1.6.1 in /usr/local/lib/python3.10/dist-packages (from dash-daq) (2.11.1)\n",
            "Requirement already satisfied: Flask<2.3.0,>=1.0.4 in /usr/local/lib/python3.10/dist-packages (from dash>=1.6.1->dash-daq) (2.2.5)\n",
            "Requirement already satisfied: Werkzeug<2.3.0 in /usr/local/lib/python3.10/dist-packages (from dash>=1.6.1->dash-daq) (2.2.3)\n",
            "Requirement already satisfied: plotly>=5.0.0 in /usr/local/lib/python3.10/dist-packages (from dash>=1.6.1->dash-daq) (5.13.1)\n",
            "Requirement already satisfied: dash-html-components==2.0.0 in /usr/local/lib/python3.10/dist-packages (from dash>=1.6.1->dash-daq) (2.0.0)\n",
            "Requirement already satisfied: dash-core-components==2.0.0 in /usr/local/lib/python3.10/dist-packages (from dash>=1.6.1->dash-daq) (2.0.0)\n",
            "Requirement already satisfied: dash-table==5.0.0 in /usr/local/lib/python3.10/dist-packages (from dash>=1.6.1->dash-daq) (5.0.0)\n",
            "Requirement already satisfied: typing-extensions>=4.1.1 in /usr/local/lib/python3.10/dist-packages (from dash>=1.6.1->dash-daq) (4.6.3)\n",
            "Requirement already satisfied: requests in /usr/local/lib/python3.10/dist-packages (from dash>=1.6.1->dash-daq) (2.27.1)\n",
            "Requirement already satisfied: retrying in /usr/local/lib/python3.10/dist-packages (from dash>=1.6.1->dash-daq) (1.3.4)\n",
            "Requirement already satisfied: ansi2html in /usr/local/lib/python3.10/dist-packages (from dash>=1.6.1->dash-daq) (1.8.0)\n",
            "Requirement already satisfied: nest-asyncio in /usr/local/lib/python3.10/dist-packages (from dash>=1.6.1->dash-daq) (1.5.6)\n",
            "Requirement already satisfied: Jinja2>=3.0 in /usr/local/lib/python3.10/dist-packages (from Flask<2.3.0,>=1.0.4->dash>=1.6.1->dash-daq) (3.1.2)\n",
            "Requirement already satisfied: itsdangerous>=2.0 in /usr/local/lib/python3.10/dist-packages (from Flask<2.3.0,>=1.0.4->dash>=1.6.1->dash-daq) (2.1.2)\n",
            "Requirement already satisfied: click>=8.0 in /usr/local/lib/python3.10/dist-packages (from Flask<2.3.0,>=1.0.4->dash>=1.6.1->dash-daq) (8.1.3)\n",
            "Requirement already satisfied: tenacity>=6.2.0 in /usr/local/lib/python3.10/dist-packages (from plotly>=5.0.0->dash>=1.6.1->dash-daq) (8.2.2)\n",
            "Requirement already satisfied: MarkupSafe>=2.1.1 in /usr/local/lib/python3.10/dist-packages (from Werkzeug<2.3.0->dash>=1.6.1->dash-daq) (2.1.3)\n",
            "Requirement already satisfied: urllib3<1.27,>=1.21.1 in /usr/local/lib/python3.10/dist-packages (from requests->dash>=1.6.1->dash-daq) (1.26.16)\n",
            "Requirement already satisfied: certifi>=2017.4.17 in /usr/local/lib/python3.10/dist-packages (from requests->dash>=1.6.1->dash-daq) (2023.5.7)\n",
            "Requirement already satisfied: charset-normalizer~=2.0.0 in /usr/local/lib/python3.10/dist-packages (from requests->dash>=1.6.1->dash-daq) (2.0.12)\n",
            "Requirement already satisfied: idna<4,>=2.5 in /usr/local/lib/python3.10/dist-packages (from requests->dash>=1.6.1->dash-daq) (3.4)\n",
            "Requirement already satisfied: six>=1.7.0 in /usr/local/lib/python3.10/dist-packages (from retrying->dash>=1.6.1->dash-daq) (1.16.0)\n"
          ]
        }
      ]
    },
    {
      "cell_type": "code",
      "source": [
        "# Import packages\n",
        "from dash import Dash, html, dash_table, dcc, callback, Output, Input\n",
        "import pandas as pd\n",
        "import plotly.express as px"
      ],
      "metadata": {
        "id": "d0MzjxD-SJw7"
      },
      "execution_count": 12,
      "outputs": []
    },
    {
      "cell_type": "code",
      "source": [
        "\n",
        "\n",
        "#df = px.data.gapminder().query(\"year==2007\")\n",
        "\n",
        "app = Dash(__name__)\n",
        "\n",
        "app.layout = html.Div(\n",
        "    [\n",
        "        html.H4(\"Similarity Visualize\"),\n",
        "        html.P(\"Select file:\"),\n",
        "        dcc.RadioItems(\n",
        "            id=\"pos-x\",\n",
        "            inline=True,\n",
        "            options=[\"file1\", \"file2\", \"file3\"],\n",
        "            value=\"file1\",\n",
        "        ),\n",
        "        dcc.RadioItems(\n",
        "            id=\"pos-y\",\n",
        "            inline=True,\n",
        "            options=[\"AV\", \"A\"],\n",
        "            value=\"AV\",\n",
        "        ),\n",
        "        dcc.Graph(id=\"graph\"),\n",
        "    ]\n",
        ")\n",
        "\n",
        "\n",
        "@app.callback(\n",
        "    Output(\"graph\", \"figure\"),\n",
        "    Input(\"pos-x\", \"value\"),\n",
        "    Input(\"pos-y\", \"value\"),\n",
        ")\n",
        "\n",
        "def get_results(pos_x, pos_y):\n",
        "\n",
        "  fpath = testdat1\n",
        "  if pos_x == 'file1':\n",
        "    fpath = testdat1\n",
        "  if pos_x == 'file2':\n",
        "    fpath = testdat2\n",
        "  if pos_x == 'file3':\n",
        "    fpath = testdat3\n",
        "\n",
        "\n",
        "  fig = similarityExtract(fpath, pos_y)\n",
        "  return fig\n",
        "\n",
        "\n",
        "if __name__ == \"__main__\":\n",
        "    app.run_server(debug=True)"
      ],
      "metadata": {
        "colab": {
          "base_uri": "https://localhost:8080/",
          "height": 671
        },
        "id": "y3jr8ZmcSMFs",
        "outputId": "57ab6fc9-82ce-424c-e46b-0ac68228c92b"
      },
      "execution_count": 13,
      "outputs": [
        {
          "output_type": "display_data",
          "data": {
            "text/plain": [
              "<IPython.core.display.Javascript object>"
            ],
            "application/javascript": [
              "(async (port, path, width, height, cache, element) => {\n",
              "    if (!google.colab.kernel.accessAllowed && !cache) {\n",
              "      return;\n",
              "    }\n",
              "    element.appendChild(document.createTextNode(''));\n",
              "    const url = await google.colab.kernel.proxyPort(port, {cache});\n",
              "    const iframe = document.createElement('iframe');\n",
              "    iframe.src = new URL(path, url).toString();\n",
              "    iframe.height = height;\n",
              "    iframe.width = width;\n",
              "    iframe.style.border = 0;\n",
              "    iframe.allow = [\n",
              "        'accelerometer',\n",
              "        'autoplay',\n",
              "        'camera',\n",
              "        'clipboard-read',\n",
              "        'clipboard-write',\n",
              "        'gyroscope',\n",
              "        'magnetometer',\n",
              "        'microphone',\n",
              "        'serial',\n",
              "        'usb',\n",
              "        'xr-spatial-tracking',\n",
              "    ].join('; ');\n",
              "    element.appendChild(iframe);\n",
              "  })(8050, \"/\", \"100%\", 650, false, window.element)"
            ]
          },
          "metadata": {}
        }
      ]
    }
  ]
}