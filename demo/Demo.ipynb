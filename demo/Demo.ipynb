{
  "nbformat": 4,
  "nbformat_minor": 0,
  "metadata": {
    "colab": {
      "provenance": []
    },
    "kernelspec": {
      "name": "python3",
      "display_name": "Python 3"
    },
    "language_info": {
      "name": "python"
    }
  },
  "cells": [
    {
      "cell_type": "markdown",
      "source": [
        "Import All Required Packages for DEMO"
      ],
      "metadata": {
        "id": "unp4EEE3K9A0"
      }
    },
    {
      "cell_type": "code",
      "execution_count": 9,
      "metadata": {
        "id": "CeVBXBSqKEfd"
      },
      "outputs": [],
      "source": [
        "import os\n",
        "import numpy as np\n",
        "import plotly.graph_objs as go\n",
        "import plotly\n",
        "import pandas as pd\n",
        "import torch\n",
        "import torch.nn as nn\n",
        "from torch.utils.data import Dataset, DataLoader\n",
        "from torchvision import datasets, transforms\n",
        "from torchvision.utils import make_grid, save_image\n",
        "from torch.nn import functional as F\n",
        "import matplotlib.pyplot as plt\n",
        "from tqdm import tqdm\n",
        "import numpy as np\n",
        "from scipy.stats import norm\n",
        "import scipy.io\n",
        "import os\n",
        "from math import ceil\n",
        "import joblib\n",
        "from sklearn import preprocessing\n",
        "import plotly.express as px\n",
        "import plotly.graph_objects as go\n",
        "\n",
        "device = ( 'cuda' if torch.cuda.is_available() else 'cpu' )"
      ]
    },
    {
      "cell_type": "code",
      "source": [
        "!pip install dash # The core dash backend\n",
        "!pip install dash-daq\n",
        "\n",
        "# Import packages\n",
        "from dash import Dash, html, dash_table, dcc, callback, Output, Input\n",
        "import pandas as pd\n",
        "import plotly.express as px"
      ],
      "metadata": {
        "id": "kLHfSPoaK7Ni"
      },
      "execution_count": null,
      "outputs": []
    },
    {
      "cell_type": "markdown",
      "source": [
        "Autoencoder Definition"
      ],
      "metadata": {
        "id": "dRVFFC50LCUR"
      }
    },
    {
      "cell_type": "code",
      "source": [
        "# Autoencoder\n",
        "\n",
        "# Hyperparameters\n",
        "batch_size = 128\n",
        "device = device = ( 'cuda' if torch.cuda.is_available() else 'cpu' )\n",
        "\n",
        "#img_size = 650    # 28x28x1\n",
        "hidden_dim = 64  # hidden layer dim\n",
        "#z_dim = 20        # latent space dimension (encoder)\n",
        "z_dim = 2        # latent space dimension (encoder)\n",
        "\n",
        "epochs = 10\n",
        "\n",
        "# model architecture\n",
        "class VAE(nn.Module):\n",
        "  def __init__(self):\n",
        "    super(VAE, self).__init__()\n",
        "\n",
        "    # encoder\n",
        "    self.fc1 = nn.Linear(img_size, hidden_dim)\n",
        "    self.fc2_mean = nn.Linear(hidden_dim, z_dim)\n",
        "    self.fc2_logvar = nn.Linear(hidden_dim, z_dim)\n",
        "    #decoder\n",
        "    self.fc3 = nn.Linear(z_dim, hidden_dim)\n",
        "    self.fc4 = nn.Linear(hidden_dim, img_size)\n",
        "\n",
        "  def encode(self, x):\n",
        "    h = F.relu(self.fc1(x))\n",
        "    mu = self.fc2_mean(h)         # compute mean of latent\n",
        "    logvar = self.fc2_logvar(h)   # compute logvar of latent\n",
        "    return mu, logvar\n",
        "\n",
        "  def reparameterize(self, mu, logvar):\n",
        "    # p(z|x) = mu + std * eps\n",
        "    std = torch.exp(logvar/2)\n",
        "    eps = torch.randn_like(std)\n",
        "    return (mu + eps * std)\n",
        "\n",
        "  def decode(self, z):\n",
        "    h = F.relu(self.fc3(z))\n",
        "    out = torch.sigmoid(self.fc4(h))\n",
        "    return out\n",
        "\n",
        "  def forward(self, x):\n",
        "    # batch_size x 1 x 28 x 28 -> batch_size x 784\n",
        "    #print(x.view(-1, img_size).shape)\n",
        "    mu, logvar = self.encode(x.view(-1, img_size))\n",
        "    z = self.reparameterize(mu, logvar)\n",
        "    reconstructed = self.decode(z)\n",
        "    return reconstructed, mu, logvar\n",
        "\n",
        "# Initialize model, optimizer\n",
        "\n",
        "# combined VAE\n",
        "#img_size = 650\n",
        "#totVae = VAE().to(device)\n",
        "#totVae.load_state_dict(torch.load('/content/drive/MyDrive/video_feat/features/autoenc.pth'))\n",
        "\n",
        "# Audio only VAE\n",
        "img_size = 138\n",
        "audVae = VAE().to(device)\n",
        "audVae.load_state_dict(torch.load('/content/drive/MyDrive/video_feat/audio_only/autoenc_audio_only.pth'))"
      ],
      "metadata": {
        "colab": {
          "base_uri": "https://localhost:8080/"
        },
        "id": "yJdSuiUCK75G",
        "outputId": "04e29b15-f3e9-43d9-8ed1-d92695e222b4"
      },
      "execution_count": 37,
      "outputs": [
        {
          "output_type": "execute_result",
          "data": {
            "text/plain": [
              "<All keys matched successfully>"
            ]
          },
          "metadata": {},
          "execution_count": 37
        }
      ]
    },
    {
      "cell_type": "code",
      "source": [
        "# Autoencoder\n",
        "\n",
        "# Hyperparameters\n",
        "batch_size = 128\n",
        "device = device = ( 'cuda' if torch.cuda.is_available() else 'cpu' )\n",
        "\n",
        "img_size = 650    # 28x28x1\n",
        "hidden_dim = 64  # hidden layer dim\n",
        "#z_dim = 20        # latent space dimension (encoder)\n",
        "z_dim = 2        # latent space dimension (encoder)\n",
        "\n",
        "epochs = 10\n",
        "\n",
        "# model architecture\n",
        "class VAE(nn.Module):\n",
        "  def __init__(self):\n",
        "    super(VAE, self).__init__()\n",
        "\n",
        "    # encoder\n",
        "    self.fc1 = nn.Linear(img_size, hidden_dim)\n",
        "    self.fc2_mean = nn.Linear(hidden_dim, z_dim)\n",
        "    self.fc2_logvar = nn.Linear(hidden_dim, z_dim)\n",
        "    #decoder\n",
        "    self.fc3 = nn.Linear(z_dim, hidden_dim)\n",
        "    self.fc4 = nn.Linear(hidden_dim, img_size)\n",
        "\n",
        "  def encode(self, x):\n",
        "    h = F.relu(self.fc1(x))\n",
        "    mu = self.fc2_mean(h)         # compute mean of latent\n",
        "    logvar = self.fc2_logvar(h)   # compute logvar of latent\n",
        "    return mu, logvar\n",
        "\n",
        "  def reparameterize(self, mu, logvar):\n",
        "    # p(z|x) = mu + std * eps\n",
        "    std = torch.exp(logvar/2)\n",
        "    eps = torch.randn_like(std)\n",
        "    return (mu + eps * std)\n",
        "\n",
        "  def decode(self, z):\n",
        "    h = F.relu(self.fc3(z))\n",
        "    out = torch.sigmoid(self.fc4(h))\n",
        "    return out\n",
        "\n",
        "  def forward(self, x):\n",
        "    # batch_size x 1 x 28 x 28 -> batch_size x 784\n",
        "    #print(x.view(-1, img_size).shape)\n",
        "    mu, logvar = self.encode(x.view(-1, img_size))\n",
        "    z = self.reparameterize(mu, logvar)\n",
        "    reconstructed = self.decode(z)\n",
        "    return reconstructed, mu, logvar\n",
        "\n",
        "totVae = VAE().to(device)\n",
        "totVae.load_state_dict(torch.load('/content/drive/MyDrive/video_feat/features/autoenc.pth'))"
      ],
      "metadata": {
        "colab": {
          "base_uri": "https://localhost:8080/"
        },
        "id": "PkfpNSBiRful",
        "outputId": "8c621638-d5c3-4f5c-f842-d37569a72421"
      },
      "execution_count": 38,
      "outputs": [
        {
          "output_type": "execute_result",
          "data": {
            "text/plain": [
              "<All keys matched successfully>"
            ]
          },
          "metadata": {},
          "execution_count": 38
        }
      ]
    },
    {
      "cell_type": "code",
      "source": [
        "print(totVae)"
      ],
      "metadata": {
        "colab": {
          "base_uri": "https://localhost:8080/"
        },
        "id": "dM_6-4hUQWoe",
        "outputId": "45302208-7852-498b-cec2-e52357ca7ff0"
      },
      "execution_count": 40,
      "outputs": [
        {
          "output_type": "stream",
          "name": "stdout",
          "text": [
            "VAE(\n",
            "  (fc1): Linear(in_features=650, out_features=64, bias=True)\n",
            "  (fc2_mean): Linear(in_features=64, out_features=2, bias=True)\n",
            "  (fc2_logvar): Linear(in_features=64, out_features=2, bias=True)\n",
            "  (fc3): Linear(in_features=2, out_features=64, bias=True)\n",
            "  (fc4): Linear(in_features=64, out_features=650, bias=True)\n",
            ")\n"
          ]
        }
      ]
    },
    {
      "cell_type": "code",
      "source": [
        "# VideoAudio ----------------\n",
        "encoderVA = preprocessing.LabelEncoder()\n",
        "encoderVA.classes_ = np.load('/content/drive/MyDrive/video_feat/features/classes.npy')\n",
        "\n",
        "# these are the encoded video clips\n",
        "songs_z_va = pd.read_csv('/content/drive/MyDrive/video_feat/features/audioVideo_z.csv')\n",
        "songs_z_va.head()\n",
        "\n",
        "# Audio ----------------\n",
        "encoderAU = preprocessing.LabelEncoder()\n",
        "encoderAU.classes_ = np.load('/content/drive/MyDrive/video_feat/audio_only/classes.npy')\n",
        "\n",
        "# these are the encoded video clips\n",
        "songs_z_au = pd.read_csv('/content/drive/MyDrive/video_feat/audio_only/audio_z.csv')\n",
        "songs_z_au.head()"
      ],
      "metadata": {
        "id": "WbSSCJ2HK8Wo"
      },
      "execution_count": null,
      "outputs": []
    },
    {
      "cell_type": "markdown",
      "source": [
        "Nearest Neighbors"
      ],
      "metadata": {
        "id": "08EgtENfMStn"
      }
    },
    {
      "cell_type": "code",
      "source": [
        "from sklearn.neighbors import NearestNeighbors\n",
        "\n",
        "# VA\n",
        "neigh_va = NearestNeighbors(n_neighbors=5)\n",
        "neigh_va.fit(songs_z_va[['x', 'y']].values)\n",
        "\n",
        "# Au\n",
        "neigh_au = NearestNeighbors(n_neighbors=5)\n",
        "neigh_au.fit(songs_z_au[['x', 'y']].values)"
      ],
      "metadata": {
        "id": "eAnbkhCIMZyi"
      },
      "execution_count": null,
      "outputs": []
    },
    {
      "cell_type": "markdown",
      "source": [
        "'Toy' - Demo files"
      ],
      "metadata": {
        "id": "fyrMKOk3Mz9V"
      }
    },
    {
      "cell_type": "code",
      "source": [
        "testdat1 = torch.rand(650)\n",
        "testdat2 = torch.randn(650)\n",
        "testdat3 = testdat2[:138]"
      ],
      "metadata": {
        "id": "OUkHcfhZM0Es"
      },
      "execution_count": 60,
      "outputs": []
    },
    {
      "cell_type": "markdown",
      "source": [],
      "metadata": {
        "id": "8zbnohvCNQRU"
      }
    },
    {
      "cell_type": "code",
      "source": [
        "def softmax(x):\n",
        "    \"\"\"Compute softmax values for each sets of scores in x.\"\"\"\n",
        "    e_x = np.exp(x - np.max(x))\n",
        "    return e_x / e_x.sum(axis=0) # only difference\n",
        "\n",
        "\n",
        "def similarityExtract(file, mode):\n",
        "\n",
        "  if mode == 'AV':\n",
        "    #print(totVae)\n",
        "    _, mu, logvar = totVae(file)\n",
        "\n",
        "    epsilon = 0.1\n",
        "    std = torch.exp(logvar/2)\n",
        "    eps = torch.randn_like(std)\n",
        "    z = (mu + epsilon * std).data.cpu().numpy()\n",
        "    #z = audioVae.reparameterize(mu, logvar).data.cpu().numpy()\n",
        "    neighbor_distance, neighbor_index = neigh_va.kneighbors(z, return_distance=True)\n",
        "    neighbor_color = neighbor_index\n",
        "    #print(neighbor_color)\n",
        "    plot_radius = float(np.array(np.max(neighbor_distance)))\n",
        "    #print(f'pr {plot_radius}')\n",
        "    ha = (neighbor_distance.reshape(-1, 1)+100)\n",
        "\n",
        "    neighbor_distance = softmax(ha).round(3)*100\n",
        "    neighbor_distance = softmax(100 - neighbor_distance).round(3)*100\n",
        "    #print(neighbor_distance)\n",
        "    neighbor_index = encoderVA.inverse_transform(neighbor_index.reshape(-1))\n",
        "    #print(neighbor_index)\n",
        "    print()\n",
        "    print()\n",
        "    for i in range(len(neighbor_index)):\n",
        "      print(f'track{i+1}: {neighbor_index[i]}, probability: {neighbor_distance[i]}')\n",
        "\n",
        "    fig1 = px.scatter(x=songs_z_va.iloc[:, 0], y=songs_z_va.iloc[:, 1])\n",
        "    fig2 = px.scatter(x=z[:, 0], y=z[:, 1], color_discrete_sequence=['red'])\n",
        "    #print(list(neighbor_color.reshape(-1)))\n",
        "    z4 = songs_z_va.iloc[list(neighbor_color.reshape(-1))]\n",
        "    #print(z4)\n",
        "    fig4 = px.scatter(x=z4['x'], y=z4['y'], color =neighbor_index) #color_discrete_sequence=['LightGreen'])\n",
        "    fig4.update_traces(\n",
        "      marker=dict(size=8, symbol=\"star-diamond\", line=dict(width=2, color=\"DarkSlateGrey\")),\n",
        "      selector=dict(mode=\"markers\"),\n",
        "    )\n",
        "\n",
        "\n",
        "    fig3 = go.Figure(data=fig1.data + fig2.data + fig4.data)\n",
        "    print(f'lp {z[:, 0]- plot_radius}')\n",
        "    fig3.add_shape(type=\"circle\", xref=\"x\", yref=\"y\", x0=float(z[:, 0])-plot_radius,\n",
        "                  y0=float(z[:, 1])-plot_radius, x1=float(z[:, 0])+plot_radius, y1=float(z[:, 1])+plot_radius,\n",
        "                  line_color=\"LightGreen\", fillcolor=\"LightSalmon\", opacity=0.2,)\n",
        "\n",
        "    # Set figure size\n",
        "    #fig3.update_layout(width=400, height=400)\n",
        "    fig3.update_yaxes(\n",
        "      scaleanchor=\"x\",\n",
        "      scaleratio=1,\n",
        "    )\n",
        "\n",
        "    #fig3.show()\n",
        "    #return fig3\n",
        "\n",
        "  if mode == 'A':\n",
        "    _, mu, logvar = audVae(file)\n",
        "\n",
        "    epsilon = 0.1\n",
        "    std = torch.exp(logvar/2)\n",
        "    eps = torch.randn_like(std)\n",
        "    z = (mu + epsilon * std).data.cpu().numpy()\n",
        "    #z = audioVae.reparameterize(mu, logvar).data.cpu().numpy()\n",
        "    neighbor_distance, neighbor_index = neigh_au.kneighbors(z, return_distance=True)\n",
        "    neighbor_color = neighbor_index\n",
        "    #print(neighbor_color)\n",
        "    plot_radius = float(np.array(np.max(neighbor_distance)))\n",
        "    #print(f'pr {plot_radius}')\n",
        "    ha = (neighbor_distance.reshape(-1, 1)+100)\n",
        "\n",
        "    neighbor_distance = softmax(ha).round(3)*100\n",
        "    neighbor_distance = softmax(100 - neighbor_distance).round(3)*100\n",
        "    #print(neighbor_distance)\n",
        "    neighbor_index = encoderAU.inverse_transform(neighbor_index.reshape(-1))\n",
        "    #print(neighbor_index)\n",
        "    print()\n",
        "    print()\n",
        "    for i in range(len(neighbor_index)):\n",
        "      print(f'track{i+1}: {neighbor_index[i]}, probability: {neighbor_distance[i]}')\n",
        "\n",
        "    fig1 = px.scatter(x=songs_z_au.iloc[:, 0], y=songs_z_au.iloc[:, 1])\n",
        "    fig2 = px.scatter(x=z[:, 0], y=z[:, 1], color_discrete_sequence=['red'])\n",
        "    #print(list(neighbor_color.reshape(-1)))\n",
        "    z4 = songs_z_au.iloc[list(neighbor_color.reshape(-1))]\n",
        "    #print(z4)\n",
        "    fig4 = px.scatter(x=z4['x'], y=z4['y'], color =neighbor_index) #color_discrete_sequence=['LightGreen'])\n",
        "    fig4.update_traces(\n",
        "      marker=dict(size=8, symbol=\"star-diamond\", line=dict(width=2, color=\"DarkSlateGrey\")),\n",
        "      selector=dict(mode=\"markers\"),\n",
        "    )\n",
        "\n",
        "\n",
        "    fig3 = go.Figure(data=fig1.data + fig2.data + fig4.data)\n",
        "    print(f'lp {z[:, 0]- plot_radius}')\n",
        "    fig3.add_shape(type=\"circle\", xref=\"x\", yref=\"y\", x0=float(z[:, 0])-plot_radius,\n",
        "                  y0=float(z[:, 1])-plot_radius, x1=float(z[:, 0])+plot_radius, y1=float(z[:, 1])+plot_radius,\n",
        "                  line_color=\"LightGreen\", fillcolor=\"LightSalmon\", opacity=0.2,)\n",
        "\n",
        "    # Set figure size\n",
        "    #fig3.update_layout(width=400, height=400)\n",
        "    fig3.update_yaxes(\n",
        "      scaleanchor=\"x\",\n",
        "      scaleratio=1,\n",
        "    )\n",
        "\n",
        "    #fig3.show()\n",
        "  return fig3"
      ],
      "metadata": {
        "id": "EbH7NsUxNQXA"
      },
      "execution_count": 54,
      "outputs": []
    },
    {
      "cell_type": "code",
      "source": [
        "(testdat1, 'AV')"
      ],
      "metadata": {
        "colab": {
          "base_uri": "https://localhost:8080/",
          "height": 684
        },
        "id": "9XlwQY5CPQKF",
        "outputId": "c2b12aea-3bad-4bdb-c775-42abbb64b0d8"
      },
      "execution_count": 47,
      "outputs": [
        {
          "output_type": "stream",
          "name": "stdout",
          "text": [
            "\n",
            "\n",
            "track1: Marshmello-Khalid-Numb, probability: [44.1]\n",
            "track2: Marshmello-x-Jonas-Brothers-Leave-Before-You-Love-Me, probability: [19.8]\n",
            "track3: Ti-sto-Ava-Max-The-Motto, probability: [19.8]\n",
            "track4: Kendrick-Lamar-HUMBLE, probability: [8.9]\n",
            "track5: Billie-Eilish-bad-guy, probability: [7.3]\n",
            "lp [-0.29925478]\n"
          ]
        },
        {
          "output_type": "display_data",
          "data": {
            "text/html": [
              "<html>\n",
              "<head><meta charset=\"utf-8\" /></head>\n",
              "<body>\n",
              "    <div>            <script src=\"https://cdnjs.cloudflare.com/ajax/libs/mathjax/2.7.5/MathJax.js?config=TeX-AMS-MML_SVG\"></script><script type=\"text/javascript\">if (window.MathJax && window.MathJax.Hub && window.MathJax.Hub.Config) {window.MathJax.Hub.Config({SVG: {font: \"STIX-Web\"}});}</script>                <script type=\"text/javascript\">window.PlotlyConfig = {MathJaxConfig: 'local'};</script>\n",
              "        <script src=\"https://cdn.plot.ly/plotly-2.18.2.min.js\"></script>                <div id=\"bdfd106d-c206-4810-80a8-12942f1b0da7\" class=\"plotly-graph-div\" style=\"height:525px; width:100%;\"></div>            <script type=\"text/javascript\">                                    window.PLOTLYENV=window.PLOTLYENV || {};                                    if (document.getElementById(\"bdfd106d-c206-4810-80a8-12942f1b0da7\")) {                    Plotly.newPlot(                        \"bdfd106d-c206-4810-80a8-12942f1b0da7\",                        [{\"hovertemplate\":\"x=%{x}<br>y=%{y}<extra></extra>\",\"legendgroup\":\"\",\"marker\":{\"color\":\"#636efa\",\"symbol\":\"circle\"},\"mode\":\"markers\",\"name\":\"\",\"orientation\":\"v\",\"showlegend\":false,\"x\":[0.07288212,0.118467644,-2.5550764,-1.0361422,-3.358587,-1.4531726,-0.29823607,-1.4511659,-2.03245,0.010332104,0.13217112,0.29731315,-0.35059202,-1.6397427,-0.95884275,-1.1473384,-1.3836848,-0.32264784,0.42051005,0.44180304,-0.7693394,-0.18065831,-2.496869,0.37456244,-0.10520914,-0.5444674,-0.6578579,0.169398,0.57242143,0.34852344,-3.4371376,-3.471271,-0.52313167,-0.6569795,-0.70368,0.370417,-2.054955,-1.6152875,-1.2101375,-0.04023023,-3.2073326,-5.0401354,0.031696655,-0.8508975,-0.26737952,-2.3295016,-0.515509,-0.6050373,-1.4000235,0.10518238,-1.3914402,-0.25533086,-1.5557711,-0.63646126,0.49013475,-2.362329,-1.2389165,-3.1098895,-0.15329085,0.2678086,-0.24219443,-0.7810002,-0.6967679,-2.0297713,-1.9198248,-4.569298,0.20428447,-3.1476681,-4.2244973,-0.20731348,-0.3851059,-0.41930968,-2.9808736,-0.3383724,-4.019572,-7.243848,-0.6017536,-0.34578794,-0.42645738,0.44723505,-0.6004894,-1.0731525,-1.6996837,-0.09592051,-0.0073556155,-0.26305944,-1.6370445,-0.19757178,0.19749223,-0.12273321],\"xaxis\":\"x\",\"y\":[-1.0318859,1.8224396,0.10523034,-0.16749528,-1.0586251,-0.7895525,0.5770759,2.8922548,-1.3860893,2.1155384,-3.1143837,-2.7487803,0.42390642,-1.7581222,1.9567745,1.257052,-0.2789995,-0.6265227,-2.2737284,-2.004785,1.3261842,-1.290548,1.8609701,-5.987766,2.212984,0.4603202,0.5452076,-4.0118885,-1.9460993,2.148876,-1.1224171,0.7060253,0.5734079,0.29887325,-0.74224555,-1.8561158,0.60275173,2.1914968,-0.6334751,-3.5272543,2.8089805,-0.461483,-1.1243947,-1.8336482,0.34367076,0.347672,0.3096628,0.7750501,-1.4651937,1.8646395,-1.7234083,2.4390488,2.6928587,0.27157724,-2.6572013,0.8320422,-0.46321803,-0.18541874,0.26301265,1.6376007,0.43793353,0.4765662,-0.24117684,-1.6751837,-0.95736384,-0.35248137,1.8304542,1.864992,-0.5970684,-0.9503334,2.675317,0.27387872,-4.027948,-2.2019496,-3.3479683,-1.1784444,0.40734142,-1.1375716,0.5305249,-1.9701319,0.37461892,-1.893153,0.4168905,1.9426253,2.4680066,2.2029784,0.5921287,0.81629616,1.7508085,2.4360256],\"yaxis\":\"y\",\"type\":\"scatter\"},{\"hovertemplate\":\"x=%{x}<br>y=%{y}<extra></extra>\",\"legendgroup\":\"\",\"marker\":{\"color\":\"red\",\"symbol\":\"circle\"},\"mode\":\"markers\",\"name\":\"\",\"orientation\":\"v\",\"showlegend\":false,\"x\":[0.5190511345863342],\"xaxis\":\"x\",\"y\":[0.5362573266029358],\"yaxis\":\"y\",\"type\":\"scatter\"},{\"hovertemplate\":\"color=Marshmello-Khalid-Numb<br>x=%{x}<br>y=%{y}<extra></extra>\",\"legendgroup\":\"Marshmello-Khalid-Numb\",\"marker\":{\"color\":\"#636efa\",\"line\":{\"color\":\"DarkSlateGrey\",\"width\":2},\"size\":8,\"symbol\":\"star-diamond\"},\"mode\":\"markers\",\"name\":\"Marshmello-Khalid-Numb\",\"orientation\":\"v\",\"showlegend\":true,\"x\":[-0.15329085],\"xaxis\":\"x\",\"y\":[0.26301265],\"yaxis\":\"y\",\"type\":\"scatter\"},{\"hovertemplate\":\"color=Marshmello-x-Jonas-Brothers-Leave-Before-You-Love-Me<br>x=%{x}<br>y=%{y}<extra></extra>\",\"legendgroup\":\"Marshmello-x-Jonas-Brothers-Leave-Before-You-Love-Me\",\"marker\":{\"color\":\"#EF553B\",\"line\":{\"color\":\"DarkSlateGrey\",\"width\":2},\"size\":8,\"symbol\":\"star-diamond\"},\"mode\":\"markers\",\"name\":\"Marshmello-x-Jonas-Brothers-Leave-Before-You-Love-Me\",\"orientation\":\"v\",\"showlegend\":true,\"x\":[-0.24219443],\"xaxis\":\"x\",\"y\":[0.43793353],\"yaxis\":\"y\",\"type\":\"scatter\"},{\"hovertemplate\":\"color=Ti-sto-Ava-Max-The-Motto<br>x=%{x}<br>y=%{y}<extra></extra>\",\"legendgroup\":\"Ti-sto-Ava-Max-The-Motto\",\"marker\":{\"color\":\"#00cc96\",\"line\":{\"color\":\"DarkSlateGrey\",\"width\":2},\"size\":8,\"symbol\":\"star-diamond\"},\"mode\":\"markers\",\"name\":\"Ti-sto-Ava-Max-The-Motto\",\"orientation\":\"v\",\"showlegend\":true,\"x\":[-0.19757178],\"xaxis\":\"x\",\"y\":[0.81629616],\"yaxis\":\"y\",\"type\":\"scatter\"},{\"hovertemplate\":\"color=Kendrick-Lamar-HUMBLE<br>x=%{x}<br>y=%{y}<extra></extra>\",\"legendgroup\":\"Kendrick-Lamar-HUMBLE\",\"marker\":{\"color\":\"#ab63fa\",\"line\":{\"color\":\"DarkSlateGrey\",\"width\":2},\"size\":8,\"symbol\":\"star-diamond\"},\"mode\":\"markers\",\"name\":\"Kendrick-Lamar-HUMBLE\",\"orientation\":\"v\",\"showlegend\":true,\"x\":[-0.26737952],\"xaxis\":\"x\",\"y\":[0.34367076],\"yaxis\":\"y\",\"type\":\"scatter\"},{\"hovertemplate\":\"color=Billie-Eilish-bad-guy<br>x=%{x}<br>y=%{y}<extra></extra>\",\"legendgroup\":\"Billie-Eilish-bad-guy\",\"marker\":{\"color\":\"#FFA15A\",\"line\":{\"color\":\"DarkSlateGrey\",\"width\":2},\"size\":8,\"symbol\":\"star-diamond\"},\"mode\":\"markers\",\"name\":\"Billie-Eilish-bad-guy\",\"orientation\":\"v\",\"showlegend\":true,\"x\":[-0.29823607],\"xaxis\":\"x\",\"y\":[0.5770759],\"yaxis\":\"y\",\"type\":\"scatter\"}],                        {\"template\":{\"data\":{\"histogram2dcontour\":[{\"type\":\"histogram2dcontour\",\"colorbar\":{\"outlinewidth\":0,\"ticks\":\"\"},\"colorscale\":[[0.0,\"#0d0887\"],[0.1111111111111111,\"#46039f\"],[0.2222222222222222,\"#7201a8\"],[0.3333333333333333,\"#9c179e\"],[0.4444444444444444,\"#bd3786\"],[0.5555555555555556,\"#d8576b\"],[0.6666666666666666,\"#ed7953\"],[0.7777777777777778,\"#fb9f3a\"],[0.8888888888888888,\"#fdca26\"],[1.0,\"#f0f921\"]]}],\"choropleth\":[{\"type\":\"choropleth\",\"colorbar\":{\"outlinewidth\":0,\"ticks\":\"\"}}],\"histogram2d\":[{\"type\":\"histogram2d\",\"colorbar\":{\"outlinewidth\":0,\"ticks\":\"\"},\"colorscale\":[[0.0,\"#0d0887\"],[0.1111111111111111,\"#46039f\"],[0.2222222222222222,\"#7201a8\"],[0.3333333333333333,\"#9c179e\"],[0.4444444444444444,\"#bd3786\"],[0.5555555555555556,\"#d8576b\"],[0.6666666666666666,\"#ed7953\"],[0.7777777777777778,\"#fb9f3a\"],[0.8888888888888888,\"#fdca26\"],[1.0,\"#f0f921\"]]}],\"heatmap\":[{\"type\":\"heatmap\",\"colorbar\":{\"outlinewidth\":0,\"ticks\":\"\"},\"colorscale\":[[0.0,\"#0d0887\"],[0.1111111111111111,\"#46039f\"],[0.2222222222222222,\"#7201a8\"],[0.3333333333333333,\"#9c179e\"],[0.4444444444444444,\"#bd3786\"],[0.5555555555555556,\"#d8576b\"],[0.6666666666666666,\"#ed7953\"],[0.7777777777777778,\"#fb9f3a\"],[0.8888888888888888,\"#fdca26\"],[1.0,\"#f0f921\"]]}],\"heatmapgl\":[{\"type\":\"heatmapgl\",\"colorbar\":{\"outlinewidth\":0,\"ticks\":\"\"},\"colorscale\":[[0.0,\"#0d0887\"],[0.1111111111111111,\"#46039f\"],[0.2222222222222222,\"#7201a8\"],[0.3333333333333333,\"#9c179e\"],[0.4444444444444444,\"#bd3786\"],[0.5555555555555556,\"#d8576b\"],[0.6666666666666666,\"#ed7953\"],[0.7777777777777778,\"#fb9f3a\"],[0.8888888888888888,\"#fdca26\"],[1.0,\"#f0f921\"]]}],\"contourcarpet\":[{\"type\":\"contourcarpet\",\"colorbar\":{\"outlinewidth\":0,\"ticks\":\"\"}}],\"contour\":[{\"type\":\"contour\",\"colorbar\":{\"outlinewidth\":0,\"ticks\":\"\"},\"colorscale\":[[0.0,\"#0d0887\"],[0.1111111111111111,\"#46039f\"],[0.2222222222222222,\"#7201a8\"],[0.3333333333333333,\"#9c179e\"],[0.4444444444444444,\"#bd3786\"],[0.5555555555555556,\"#d8576b\"],[0.6666666666666666,\"#ed7953\"],[0.7777777777777778,\"#fb9f3a\"],[0.8888888888888888,\"#fdca26\"],[1.0,\"#f0f921\"]]}],\"surface\":[{\"type\":\"surface\",\"colorbar\":{\"outlinewidth\":0,\"ticks\":\"\"},\"colorscale\":[[0.0,\"#0d0887\"],[0.1111111111111111,\"#46039f\"],[0.2222222222222222,\"#7201a8\"],[0.3333333333333333,\"#9c179e\"],[0.4444444444444444,\"#bd3786\"],[0.5555555555555556,\"#d8576b\"],[0.6666666666666666,\"#ed7953\"],[0.7777777777777778,\"#fb9f3a\"],[0.8888888888888888,\"#fdca26\"],[1.0,\"#f0f921\"]]}],\"mesh3d\":[{\"type\":\"mesh3d\",\"colorbar\":{\"outlinewidth\":0,\"ticks\":\"\"}}],\"scatter\":[{\"fillpattern\":{\"fillmode\":\"overlay\",\"size\":10,\"solidity\":0.2},\"type\":\"scatter\"}],\"parcoords\":[{\"type\":\"parcoords\",\"line\":{\"colorbar\":{\"outlinewidth\":0,\"ticks\":\"\"}}}],\"scatterpolargl\":[{\"type\":\"scatterpolargl\",\"marker\":{\"colorbar\":{\"outlinewidth\":0,\"ticks\":\"\"}}}],\"bar\":[{\"error_x\":{\"color\":\"#2a3f5f\"},\"error_y\":{\"color\":\"#2a3f5f\"},\"marker\":{\"line\":{\"color\":\"#E5ECF6\",\"width\":0.5},\"pattern\":{\"fillmode\":\"overlay\",\"size\":10,\"solidity\":0.2}},\"type\":\"bar\"}],\"scattergeo\":[{\"type\":\"scattergeo\",\"marker\":{\"colorbar\":{\"outlinewidth\":0,\"ticks\":\"\"}}}],\"scatterpolar\":[{\"type\":\"scatterpolar\",\"marker\":{\"colorbar\":{\"outlinewidth\":0,\"ticks\":\"\"}}}],\"histogram\":[{\"marker\":{\"pattern\":{\"fillmode\":\"overlay\",\"size\":10,\"solidity\":0.2}},\"type\":\"histogram\"}],\"scattergl\":[{\"type\":\"scattergl\",\"marker\":{\"colorbar\":{\"outlinewidth\":0,\"ticks\":\"\"}}}],\"scatter3d\":[{\"type\":\"scatter3d\",\"line\":{\"colorbar\":{\"outlinewidth\":0,\"ticks\":\"\"}},\"marker\":{\"colorbar\":{\"outlinewidth\":0,\"ticks\":\"\"}}}],\"scattermapbox\":[{\"type\":\"scattermapbox\",\"marker\":{\"colorbar\":{\"outlinewidth\":0,\"ticks\":\"\"}}}],\"scatterternary\":[{\"type\":\"scatterternary\",\"marker\":{\"colorbar\":{\"outlinewidth\":0,\"ticks\":\"\"}}}],\"scattercarpet\":[{\"type\":\"scattercarpet\",\"marker\":{\"colorbar\":{\"outlinewidth\":0,\"ticks\":\"\"}}}],\"carpet\":[{\"aaxis\":{\"endlinecolor\":\"#2a3f5f\",\"gridcolor\":\"white\",\"linecolor\":\"white\",\"minorgridcolor\":\"white\",\"startlinecolor\":\"#2a3f5f\"},\"baxis\":{\"endlinecolor\":\"#2a3f5f\",\"gridcolor\":\"white\",\"linecolor\":\"white\",\"minorgridcolor\":\"white\",\"startlinecolor\":\"#2a3f5f\"},\"type\":\"carpet\"}],\"table\":[{\"cells\":{\"fill\":{\"color\":\"#EBF0F8\"},\"line\":{\"color\":\"white\"}},\"header\":{\"fill\":{\"color\":\"#C8D4E3\"},\"line\":{\"color\":\"white\"}},\"type\":\"table\"}],\"barpolar\":[{\"marker\":{\"line\":{\"color\":\"#E5ECF6\",\"width\":0.5},\"pattern\":{\"fillmode\":\"overlay\",\"size\":10,\"solidity\":0.2}},\"type\":\"barpolar\"}],\"pie\":[{\"automargin\":true,\"type\":\"pie\"}]},\"layout\":{\"autotypenumbers\":\"strict\",\"colorway\":[\"#636efa\",\"#EF553B\",\"#00cc96\",\"#ab63fa\",\"#FFA15A\",\"#19d3f3\",\"#FF6692\",\"#B6E880\",\"#FF97FF\",\"#FECB52\"],\"font\":{\"color\":\"#2a3f5f\"},\"hovermode\":\"closest\",\"hoverlabel\":{\"align\":\"left\"},\"paper_bgcolor\":\"white\",\"plot_bgcolor\":\"#E5ECF6\",\"polar\":{\"bgcolor\":\"#E5ECF6\",\"angularaxis\":{\"gridcolor\":\"white\",\"linecolor\":\"white\",\"ticks\":\"\"},\"radialaxis\":{\"gridcolor\":\"white\",\"linecolor\":\"white\",\"ticks\":\"\"}},\"ternary\":{\"bgcolor\":\"#E5ECF6\",\"aaxis\":{\"gridcolor\":\"white\",\"linecolor\":\"white\",\"ticks\":\"\"},\"baxis\":{\"gridcolor\":\"white\",\"linecolor\":\"white\",\"ticks\":\"\"},\"caxis\":{\"gridcolor\":\"white\",\"linecolor\":\"white\",\"ticks\":\"\"}},\"coloraxis\":{\"colorbar\":{\"outlinewidth\":0,\"ticks\":\"\"}},\"colorscale\":{\"sequential\":[[0.0,\"#0d0887\"],[0.1111111111111111,\"#46039f\"],[0.2222222222222222,\"#7201a8\"],[0.3333333333333333,\"#9c179e\"],[0.4444444444444444,\"#bd3786\"],[0.5555555555555556,\"#d8576b\"],[0.6666666666666666,\"#ed7953\"],[0.7777777777777778,\"#fb9f3a\"],[0.8888888888888888,\"#fdca26\"],[1.0,\"#f0f921\"]],\"sequentialminus\":[[0.0,\"#0d0887\"],[0.1111111111111111,\"#46039f\"],[0.2222222222222222,\"#7201a8\"],[0.3333333333333333,\"#9c179e\"],[0.4444444444444444,\"#bd3786\"],[0.5555555555555556,\"#d8576b\"],[0.6666666666666666,\"#ed7953\"],[0.7777777777777778,\"#fb9f3a\"],[0.8888888888888888,\"#fdca26\"],[1.0,\"#f0f921\"]],\"diverging\":[[0,\"#8e0152\"],[0.1,\"#c51b7d\"],[0.2,\"#de77ae\"],[0.3,\"#f1b6da\"],[0.4,\"#fde0ef\"],[0.5,\"#f7f7f7\"],[0.6,\"#e6f5d0\"],[0.7,\"#b8e186\"],[0.8,\"#7fbc41\"],[0.9,\"#4d9221\"],[1,\"#276419\"]]},\"xaxis\":{\"gridcolor\":\"white\",\"linecolor\":\"white\",\"ticks\":\"\",\"title\":{\"standoff\":15},\"zerolinecolor\":\"white\",\"automargin\":true,\"zerolinewidth\":2},\"yaxis\":{\"gridcolor\":\"white\",\"linecolor\":\"white\",\"ticks\":\"\",\"title\":{\"standoff\":15},\"zerolinecolor\":\"white\",\"automargin\":true,\"zerolinewidth\":2},\"scene\":{\"xaxis\":{\"backgroundcolor\":\"#E5ECF6\",\"gridcolor\":\"white\",\"linecolor\":\"white\",\"showbackground\":true,\"ticks\":\"\",\"zerolinecolor\":\"white\",\"gridwidth\":2},\"yaxis\":{\"backgroundcolor\":\"#E5ECF6\",\"gridcolor\":\"white\",\"linecolor\":\"white\",\"showbackground\":true,\"ticks\":\"\",\"zerolinecolor\":\"white\",\"gridwidth\":2},\"zaxis\":{\"backgroundcolor\":\"#E5ECF6\",\"gridcolor\":\"white\",\"linecolor\":\"white\",\"showbackground\":true,\"ticks\":\"\",\"zerolinecolor\":\"white\",\"gridwidth\":2}},\"shapedefaults\":{\"line\":{\"color\":\"#2a3f5f\"}},\"annotationdefaults\":{\"arrowcolor\":\"#2a3f5f\",\"arrowhead\":0,\"arrowwidth\":1},\"geo\":{\"bgcolor\":\"white\",\"landcolor\":\"#E5ECF6\",\"subunitcolor\":\"white\",\"showland\":true,\"showlakes\":true,\"lakecolor\":\"white\"},\"title\":{\"x\":0.05},\"mapbox\":{\"style\":\"light\"}}},\"shapes\":[{\"fillcolor\":\"LightSalmon\",\"line\":{\"color\":\"LightGreen\"},\"opacity\":0.2,\"type\":\"circle\",\"x0\":-0.2992547560894667,\"x1\":1.3373570252621352,\"xref\":\"x\",\"y0\":-0.28204856407286516,\"y1\":1.3545632172787367,\"yref\":\"y\"}],\"yaxis\":{\"scaleanchor\":\"x\",\"scaleratio\":1}},                        {\"responsive\": true}                    ).then(function(){\n",
              "                            \n",
              "var gd = document.getElementById('bdfd106d-c206-4810-80a8-12942f1b0da7');\n",
              "var x = new MutationObserver(function (mutations, observer) {{\n",
              "        var display = window.getComputedStyle(gd).display;\n",
              "        if (!display || display === 'none') {{\n",
              "            console.log([gd, 'removed!']);\n",
              "            Plotly.purge(gd);\n",
              "            observer.disconnect();\n",
              "        }}\n",
              "}});\n",
              "\n",
              "// Listen for the removal of the full notebook cells\n",
              "var notebookContainer = gd.closest('#notebook-container');\n",
              "if (notebookContainer) {{\n",
              "    x.observe(notebookContainer, {childList: true});\n",
              "}}\n",
              "\n",
              "// Listen for the clearing of the current output cell\n",
              "var outputEl = gd.closest('.output');\n",
              "if (outputEl) {{\n",
              "    x.observe(outputEl, {childList: true});\n",
              "}}\n",
              "\n",
              "                        })                };                            </script>        </div>\n",
              "</body>\n",
              "</html>"
            ]
          },
          "metadata": {}
        }
      ]
    },
    {
      "cell_type": "markdown",
      "source": [
        "Demo Code"
      ],
      "metadata": {
        "id": "bY5FmqGUR8Lb"
      }
    },
    {
      "cell_type": "code",
      "source": [
        "!pip install dash # The core dash backend\n",
        "!pip install dash-daq"
      ],
      "metadata": {
        "colab": {
          "base_uri": "https://localhost:8080/"
        },
        "id": "CJ_hSVgLR73z",
        "outputId": "d7f3c9bb-7e3c-4696-c618-4f18f97f4616"
      },
      "execution_count": 49,
      "outputs": [
        {
          "output_type": "stream",
          "name": "stdout",
          "text": [
            "Collecting dash\n",
            "  Downloading dash-2.11.1-py3-none-any.whl (10.4 MB)\n",
            "\u001b[2K     \u001b[90m━━━━━━━━━━━━━━━━━━━━━━━━━━━━━━━━━━━━━━━━\u001b[0m \u001b[32m10.4/10.4 MB\u001b[0m \u001b[31m90.4 MB/s\u001b[0m eta \u001b[36m0:00:00\u001b[0m\n",
            "\u001b[?25hRequirement already satisfied: Flask<2.3.0,>=1.0.4 in /usr/local/lib/python3.10/dist-packages (from dash) (2.2.5)\n",
            "Collecting Werkzeug<2.3.0 (from dash)\n",
            "  Downloading Werkzeug-2.2.3-py3-none-any.whl (233 kB)\n",
            "\u001b[2K     \u001b[90m━━━━━━━━━━━━━━━━━━━━━━━━━━━━━━━━━━━━━━\u001b[0m \u001b[32m233.6/233.6 kB\u001b[0m \u001b[31m24.2 MB/s\u001b[0m eta \u001b[36m0:00:00\u001b[0m\n",
            "\u001b[?25hRequirement already satisfied: plotly>=5.0.0 in /usr/local/lib/python3.10/dist-packages (from dash) (5.13.1)\n",
            "Collecting dash-html-components==2.0.0 (from dash)\n",
            "  Downloading dash_html_components-2.0.0-py3-none-any.whl (4.1 kB)\n",
            "Collecting dash-core-components==2.0.0 (from dash)\n",
            "  Downloading dash_core_components-2.0.0-py3-none-any.whl (3.8 kB)\n",
            "Collecting dash-table==5.0.0 (from dash)\n",
            "  Downloading dash_table-5.0.0-py3-none-any.whl (3.9 kB)\n",
            "Requirement already satisfied: typing-extensions>=4.1.1 in /usr/local/lib/python3.10/dist-packages (from dash) (4.6.3)\n",
            "Requirement already satisfied: requests in /usr/local/lib/python3.10/dist-packages (from dash) (2.27.1)\n",
            "Collecting retrying (from dash)\n",
            "  Downloading retrying-1.3.4-py3-none-any.whl (11 kB)\n",
            "Collecting ansi2html (from dash)\n",
            "  Downloading ansi2html-1.8.0-py3-none-any.whl (16 kB)\n",
            "Requirement already satisfied: nest-asyncio in /usr/local/lib/python3.10/dist-packages (from dash) (1.5.6)\n",
            "Requirement already satisfied: Jinja2>=3.0 in /usr/local/lib/python3.10/dist-packages (from Flask<2.3.0,>=1.0.4->dash) (3.1.2)\n",
            "Requirement already satisfied: itsdangerous>=2.0 in /usr/local/lib/python3.10/dist-packages (from Flask<2.3.0,>=1.0.4->dash) (2.1.2)\n",
            "Requirement already satisfied: click>=8.0 in /usr/local/lib/python3.10/dist-packages (from Flask<2.3.0,>=1.0.4->dash) (8.1.3)\n",
            "Requirement already satisfied: tenacity>=6.2.0 in /usr/local/lib/python3.10/dist-packages (from plotly>=5.0.0->dash) (8.2.2)\n",
            "Requirement already satisfied: MarkupSafe>=2.1.1 in /usr/local/lib/python3.10/dist-packages (from Werkzeug<2.3.0->dash) (2.1.3)\n",
            "Requirement already satisfied: urllib3<1.27,>=1.21.1 in /usr/local/lib/python3.10/dist-packages (from requests->dash) (1.26.16)\n",
            "Requirement already satisfied: certifi>=2017.4.17 in /usr/local/lib/python3.10/dist-packages (from requests->dash) (2023.5.7)\n",
            "Requirement already satisfied: charset-normalizer~=2.0.0 in /usr/local/lib/python3.10/dist-packages (from requests->dash) (2.0.12)\n",
            "Requirement already satisfied: idna<4,>=2.5 in /usr/local/lib/python3.10/dist-packages (from requests->dash) (3.4)\n",
            "Requirement already satisfied: six>=1.7.0 in /usr/local/lib/python3.10/dist-packages (from retrying->dash) (1.16.0)\n",
            "Installing collected packages: dash-table, dash-html-components, dash-core-components, Werkzeug, retrying, ansi2html, dash\n",
            "  Attempting uninstall: Werkzeug\n",
            "    Found existing installation: Werkzeug 2.3.6\n",
            "    Uninstalling Werkzeug-2.3.6:\n",
            "      Successfully uninstalled Werkzeug-2.3.6\n",
            "Successfully installed Werkzeug-2.2.3 ansi2html-1.8.0 dash-2.11.1 dash-core-components-2.0.0 dash-html-components-2.0.0 dash-table-5.0.0 retrying-1.3.4\n",
            "Collecting dash-daq\n",
            "  Downloading dash_daq-0.5.0.tar.gz (642 kB)\n",
            "\u001b[2K     \u001b[90m━━━━━━━━━━━━━━━━━━━━━━━━━━━━━━━━━━━━━━\u001b[0m \u001b[32m642.7/642.7 kB\u001b[0m \u001b[31m36.4 MB/s\u001b[0m eta \u001b[36m0:00:00\u001b[0m\n",
            "\u001b[?25h  Preparing metadata (setup.py) ... \u001b[?25l\u001b[?25hdone\n",
            "Requirement already satisfied: dash>=1.6.1 in /usr/local/lib/python3.10/dist-packages (from dash-daq) (2.11.1)\n",
            "Requirement already satisfied: Flask<2.3.0,>=1.0.4 in /usr/local/lib/python3.10/dist-packages (from dash>=1.6.1->dash-daq) (2.2.5)\n",
            "Requirement already satisfied: Werkzeug<2.3.0 in /usr/local/lib/python3.10/dist-packages (from dash>=1.6.1->dash-daq) (2.2.3)\n",
            "Requirement already satisfied: plotly>=5.0.0 in /usr/local/lib/python3.10/dist-packages (from dash>=1.6.1->dash-daq) (5.13.1)\n",
            "Requirement already satisfied: dash-html-components==2.0.0 in /usr/local/lib/python3.10/dist-packages (from dash>=1.6.1->dash-daq) (2.0.0)\n",
            "Requirement already satisfied: dash-core-components==2.0.0 in /usr/local/lib/python3.10/dist-packages (from dash>=1.6.1->dash-daq) (2.0.0)\n",
            "Requirement already satisfied: dash-table==5.0.0 in /usr/local/lib/python3.10/dist-packages (from dash>=1.6.1->dash-daq) (5.0.0)\n",
            "Requirement already satisfied: typing-extensions>=4.1.1 in /usr/local/lib/python3.10/dist-packages (from dash>=1.6.1->dash-daq) (4.6.3)\n",
            "Requirement already satisfied: requests in /usr/local/lib/python3.10/dist-packages (from dash>=1.6.1->dash-daq) (2.27.1)\n",
            "Requirement already satisfied: retrying in /usr/local/lib/python3.10/dist-packages (from dash>=1.6.1->dash-daq) (1.3.4)\n",
            "Requirement already satisfied: ansi2html in /usr/local/lib/python3.10/dist-packages (from dash>=1.6.1->dash-daq) (1.8.0)\n",
            "Requirement already satisfied: nest-asyncio in /usr/local/lib/python3.10/dist-packages (from dash>=1.6.1->dash-daq) (1.5.6)\n",
            "Requirement already satisfied: Jinja2>=3.0 in /usr/local/lib/python3.10/dist-packages (from Flask<2.3.0,>=1.0.4->dash>=1.6.1->dash-daq) (3.1.2)\n",
            "Requirement already satisfied: itsdangerous>=2.0 in /usr/local/lib/python3.10/dist-packages (from Flask<2.3.0,>=1.0.4->dash>=1.6.1->dash-daq) (2.1.2)\n",
            "Requirement already satisfied: click>=8.0 in /usr/local/lib/python3.10/dist-packages (from Flask<2.3.0,>=1.0.4->dash>=1.6.1->dash-daq) (8.1.3)\n",
            "Requirement already satisfied: tenacity>=6.2.0 in /usr/local/lib/python3.10/dist-packages (from plotly>=5.0.0->dash>=1.6.1->dash-daq) (8.2.2)\n",
            "Requirement already satisfied: MarkupSafe>=2.1.1 in /usr/local/lib/python3.10/dist-packages (from Werkzeug<2.3.0->dash>=1.6.1->dash-daq) (2.1.3)\n",
            "Requirement already satisfied: urllib3<1.27,>=1.21.1 in /usr/local/lib/python3.10/dist-packages (from requests->dash>=1.6.1->dash-daq) (1.26.16)\n",
            "Requirement already satisfied: certifi>=2017.4.17 in /usr/local/lib/python3.10/dist-packages (from requests->dash>=1.6.1->dash-daq) (2023.5.7)\n",
            "Requirement already satisfied: charset-normalizer~=2.0.0 in /usr/local/lib/python3.10/dist-packages (from requests->dash>=1.6.1->dash-daq) (2.0.12)\n",
            "Requirement already satisfied: idna<4,>=2.5 in /usr/local/lib/python3.10/dist-packages (from requests->dash>=1.6.1->dash-daq) (3.4)\n",
            "Requirement already satisfied: six>=1.7.0 in /usr/local/lib/python3.10/dist-packages (from retrying->dash>=1.6.1->dash-daq) (1.16.0)\n",
            "Building wheels for collected packages: dash-daq\n",
            "  Building wheel for dash-daq (setup.py) ... \u001b[?25l\u001b[?25hdone\n",
            "  Created wheel for dash-daq: filename=dash_daq-0.5.0-py3-none-any.whl size=669696 sha256=6c03f6f7c207ab143ef3f01ba71d6b5b3ca37be4d3c10e9dc3cd6f9b370777d1\n",
            "  Stored in directory: /root/.cache/pip/wheels/75/14/1b/208d09d5e239391048bdc167759977b41ba65a3d4063aebf6b\n",
            "Successfully built dash-daq\n",
            "Installing collected packages: dash-daq\n",
            "Successfully installed dash-daq-0.5.0\n"
          ]
        }
      ]
    },
    {
      "cell_type": "code",
      "source": [
        "# Import packages\n",
        "from dash import Dash, html, dash_table, dcc, callback, Output, Input\n",
        "import pandas as pd\n",
        "import plotly.express as px"
      ],
      "metadata": {
        "id": "d0MzjxD-SJw7"
      },
      "execution_count": 50,
      "outputs": []
    },
    {
      "cell_type": "code",
      "source": [
        "\n",
        "\n",
        "#df = px.data.gapminder().query(\"year==2007\")\n",
        "\n",
        "app = Dash(__name__)\n",
        "\n",
        "app.layout = html.Div(\n",
        "    [\n",
        "        html.H4(\"Similarity Visualize\"),\n",
        "        html.P(\"Select file:\"),\n",
        "        dcc.RadioItems(\n",
        "            id=\"pos-x\",\n",
        "            inline=True,\n",
        "            options=[\"file1\", \"file2\", \"file3\"],\n",
        "            value=\"file1\",\n",
        "        ),\n",
        "        dcc.RadioItems(\n",
        "            id=\"pos-y\",\n",
        "            inline=True,\n",
        "            options=[\"AV\", \"A\"],\n",
        "            value=\"AV\",\n",
        "        ),\n",
        "        dcc.Graph(id=\"graph\"),\n",
        "    ]\n",
        ")\n",
        "\n",
        "\n",
        "@app.callback(\n",
        "    Output(\"graph\", \"figure\"),\n",
        "    Input(\"pos-x\", \"value\"),\n",
        "    Input(\"pos-y\", \"value\"),\n",
        ")\n",
        "\n",
        "def get_results(pos_x, pos_y):\n",
        "\n",
        "  fpath = testdat1\n",
        "  if pos_x == 'file1' and pos_y == 'AV':\n",
        "    fpath = testdat1\n",
        "    temp = 'AV'\n",
        "  if pos_x == 'file2' and pos_y == 'AV':\n",
        "    fpath = testdat2\n",
        "    temp = 'AV'\n",
        "  if pos_x == 'file3':\n",
        "    fpath = testdat3\n",
        "    temp = 'A'\n",
        "  if pos_y == 'A':\n",
        "    pos_y = 'A'\n",
        "    fpath = testdat3\n",
        "\n",
        "  fig = similarityExtract(fpath, temp)\n",
        "  return fig\n",
        "\n",
        "\n",
        "if __name__ == \"__main__\":\n",
        "    app.run_server(debug=True)"
      ],
      "metadata": {
        "colab": {
          "base_uri": "https://localhost:8080/",
          "height": 671
        },
        "id": "y3jr8ZmcSMFs",
        "outputId": "f70d2b4c-e4fd-41a7-d1df-f512250c2f9a"
      },
      "execution_count": 73,
      "outputs": [
        {
          "output_type": "display_data",
          "data": {
            "text/plain": [
              "<IPython.core.display.Javascript object>"
            ],
            "application/javascript": [
              "(async (port, path, width, height, cache, element) => {\n",
              "    if (!google.colab.kernel.accessAllowed && !cache) {\n",
              "      return;\n",
              "    }\n",
              "    element.appendChild(document.createTextNode(''));\n",
              "    const url = await google.colab.kernel.proxyPort(port, {cache});\n",
              "    const iframe = document.createElement('iframe');\n",
              "    iframe.src = new URL(path, url).toString();\n",
              "    iframe.height = height;\n",
              "    iframe.width = width;\n",
              "    iframe.style.border = 0;\n",
              "    iframe.allow = [\n",
              "        'accelerometer',\n",
              "        'autoplay',\n",
              "        'camera',\n",
              "        'clipboard-read',\n",
              "        'clipboard-write',\n",
              "        'gyroscope',\n",
              "        'magnetometer',\n",
              "        'microphone',\n",
              "        'serial',\n",
              "        'usb',\n",
              "        'xr-spatial-tracking',\n",
              "    ].join('; ');\n",
              "    element.appendChild(iframe);\n",
              "  })(8050, \"/\", \"100%\", 650, false, window.element)"
            ]
          },
          "metadata": {}
        }
      ]
    }
  ]
}